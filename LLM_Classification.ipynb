{
 "cells": [
  {
   "cell_type": "markdown",
   "id": "f4b5c124-76ce-40d5-95e6-97aa5115f3df",
   "metadata": {},
   "source": [
    "# LLM Issue Domain Classification"
   ]
  },
  {
   "cell_type": "markdown",
   "id": "9eefd77e-a600-4579-a4c8-ed30c0922629",
   "metadata": {
    "jp-MarkdownHeadingCollapsed": true
   },
   "source": [
    "# Installs"
   ]
  },
  {
   "cell_type": "code",
   "execution_count": 31,
   "id": "feb0eb47-9a0d-48c9-aa11-8f277553a295",
   "metadata": {},
   "outputs": [
    {
     "name": "stdout",
     "output_type": "stream",
     "text": [
      "^C\n",
      "Note: you may need to restart the kernel to use updated packages.\n",
      "Requirement already satisfied: pandas in c:\\users\\mario\\appdata\\local\\programs\\python\\python311\\lib\\site-packages (2.1.4)\n",
      "Requirement already satisfied: emoji in c:\\users\\mario\\appdata\\local\\programs\\python\\python311\\lib\\site-packages (2.11.1)\n",
      "Requirement already satisfied: openai in c:\\users\\mario\\appdata\\local\\programs\\python\\python311\\lib\\site-packages (1.30.1)\n",
      "Requirement already satisfied: tiktoken in c:\\users\\mario\\appdata\\local\\programs\\python\\python311\\lib\\site-packages (0.7.0)\n",
      "Requirement already satisfied: scikit-learn in c:\\users\\mario\\appdata\\local\\programs\\python\\python311\\lib\\site-packages (1.3.2)\n",
      "Requirement already satisfied: numpy<2,>=1.23.2 in c:\\users\\mario\\appdata\\local\\programs\\python\\python311\\lib\\site-packages (from pandas) (1.26.3)\n",
      "Requirement already satisfied: python-dateutil>=2.8.2 in c:\\users\\mario\\appdata\\local\\programs\\python\\python311\\lib\\site-packages (from pandas) (2.8.2)\n",
      "Requirement already satisfied: pytz>=2020.1 in c:\\users\\mario\\appdata\\local\\programs\\python\\python311\\lib\\site-packages (from pandas) (2023.3.post1)\n",
      "Requirement already satisfied: tzdata>=2022.1 in c:\\users\\mario\\appdata\\local\\programs\\python\\python311\\lib\\site-packages (from pandas) (2023.4)\n",
      "Requirement already satisfied: anyio<5,>=3.5.0 in c:\\users\\mario\\appdata\\local\\programs\\python\\python311\\lib\\site-packages (from openai) (4.2.0)\n",
      "Requirement already satisfied: distro<2,>=1.7.0 in c:\\users\\mario\\appdata\\local\\programs\\python\\python311\\lib\\site-packages (from openai) (1.9.0)\n",
      "Requirement already satisfied: httpx<1,>=0.23.0 in c:\\users\\mario\\appdata\\local\\programs\\python\\python311\\lib\\site-packages (from openai) (0.27.0)\n",
      "Requirement already satisfied: pydantic<3,>=1.9.0 in c:\\users\\mario\\appdata\\local\\programs\\python\\python311\\lib\\site-packages (from openai) (2.7.1)\n",
      "Requirement already satisfied: sniffio in c:\\users\\mario\\appdata\\local\\programs\\python\\python311\\lib\\site-packages (from openai) (1.3.0)\n",
      "Requirement already satisfied: tqdm>4 in c:\\users\\mario\\appdata\\local\\programs\\python\\python311\\lib\\site-packages (from openai) (4.66.1)\n",
      "Requirement already satisfied: typing-extensions<5,>=4.7 in c:\\users\\mario\\appdata\\local\\programs\\python\\python311\\lib\\site-packages (from openai) (4.9.0)\n",
      "Requirement already satisfied: regex>=2022.1.18 in c:\\users\\mario\\appdata\\local\\programs\\python\\python311\\lib\\site-packages (from tiktoken) (2023.12.25)\n",
      "Requirement already satisfied: requests>=2.26.0 in c:\\users\\mario\\appdata\\local\\programs\\python\\python311\\lib\\site-packages (from tiktoken) (2.31.0)\n",
      "Requirement already satisfied: scipy>=1.5.0 in c:\\users\\mario\\appdata\\local\\programs\\python\\python311\\lib\\site-packages (from scikit-learn) (1.11.4)\n",
      "Requirement already satisfied: joblib>=1.1.1 in c:\\users\\mario\\appdata\\local\\programs\\python\\python311\\lib\\site-packages (from scikit-learn) (1.3.2)\n",
      "Requirement already satisfied: threadpoolctl>=2.0.0 in c:\\users\\mario\\appdata\\local\\programs\\python\\python311\\lib\\site-packages (from scikit-learn) (3.2.0)\n",
      "Requirement already satisfied: idna>=2.8 in c:\\users\\mario\\appdata\\local\\programs\\python\\python311\\lib\\site-packages (from anyio<5,>=3.5.0->openai) (3.6)\n",
      "Requirement already satisfied: certifi in c:\\users\\mario\\appdata\\local\\programs\\python\\python311\\lib\\site-packages (from httpx<1,>=0.23.0->openai) (2023.11.17)\n",
      "Requirement already satisfied: httpcore==1.* in c:\\users\\mario\\appdata\\local\\programs\\python\\python311\\lib\\site-packages (from httpx<1,>=0.23.0->openai) (1.0.5)\n",
      "Requirement already satisfied: h11<0.15,>=0.13 in c:\\users\\mario\\appdata\\local\\programs\\python\\python311\\lib\\site-packages (from httpcore==1.*->httpx<1,>=0.23.0->openai) (0.14.0)\n",
      "Requirement already satisfied: annotated-types>=0.4.0 in c:\\users\\mario\\appdata\\local\\programs\\python\\python311\\lib\\site-packages (from pydantic<3,>=1.9.0->openai) (0.6.0)\n",
      "Requirement already satisfied: pydantic-core==2.18.2 in c:\\users\\mario\\appdata\\local\\programs\\python\\python311\\lib\\site-packages (from pydantic<3,>=1.9.0->openai) (2.18.2)\n",
      "Requirement already satisfied: six>=1.5 in c:\\users\\mario\\appdata\\local\\programs\\python\\python311\\lib\\site-packages (from python-dateutil>=2.8.2->pandas) (1.16.0)\n",
      "Requirement already satisfied: charset-normalizer<4,>=2 in c:\\users\\mario\\appdata\\local\\programs\\python\\python311\\lib\\site-packages (from requests>=2.26.0->tiktoken) (3.3.2)\n",
      "Requirement already satisfied: urllib3<3,>=1.21.1 in c:\\users\\mario\\appdata\\local\\programs\\python\\python311\\lib\\site-packages (from requests>=2.26.0->tiktoken) (2.1.0)\n",
      "Requirement already satisfied: colorama in c:\\users\\mario\\appdata\\local\\programs\\python\\python311\\lib\\site-packages (from tqdm>4->openai) (0.4.6)\n"
     ]
    }
   ],
   "source": [
    "%pip install pandas emoji openai tiktoken scikit-learn openai"
   ]
  },
  {
   "cell_type": "markdown",
   "id": "b26db424-e5bc-4724-962e-34e0abbe8907",
   "metadata": {
    "jp-MarkdownHeadingCollapsed": true
   },
   "source": [
    "# Library Imports"
   ]
  },
  {
   "cell_type": "code",
   "execution_count": 2,
   "id": "590f91ee-b0c2-49ee-bc78-f98671e571e9",
   "metadata": {},
   "outputs": [],
   "source": [
    "# Importing libraries\n",
    "import pandas as pd\n",
    "import emoji\n",
    "import re\n",
    "import string\n",
    "import json\n",
    "import ast\n",
    "import openai\n"
   ]
  },
  {
   "cell_type": "markdown",
   "id": "72d7603b-7897-4543-8153-dcb9df4041e4",
   "metadata": {
    "jp-MarkdownHeadingCollapsed": true
   },
   "source": [
    "# Data Import"
   ]
  },
  {
   "cell_type": "code",
   "execution_count": 3,
   "id": "337ad907-ba72-44f0-a017-f6fc42619202",
   "metadata": {
    "scrolled": true
   },
   "outputs": [
    {
     "data": {
      "text/html": [
       "<div>\n",
       "<style scoped>\n",
       "    .dataframe tbody tr th:only-of-type {\n",
       "        vertical-align: middle;\n",
       "    }\n",
       "\n",
       "    .dataframe tbody tr th {\n",
       "        vertical-align: top;\n",
       "    }\n",
       "\n",
       "    .dataframe thead th {\n",
       "        text-align: right;\n",
       "    }\n",
       "</style>\n",
       "<table border=\"1\" class=\"dataframe\">\n",
       "  <thead>\n",
       "    <tr style=\"text-align: right;\">\n",
       "      <th></th>\n",
       "      <th>Issue #</th>\n",
       "      <th>PR #</th>\n",
       "      <th>Pull Request</th>\n",
       "      <th>issue text</th>\n",
       "      <th>issue description</th>\n",
       "      <th>created_at</th>\n",
       "      <th>closed_at</th>\n",
       "      <th>userlogin</th>\n",
       "      <th>author_name</th>\n",
       "      <th>most_recent_commit</th>\n",
       "      <th>...</th>\n",
       "      <th>Utility-Performance Tools</th>\n",
       "      <th>Utility-Diagnostic Utilities</th>\n",
       "      <th>Utility-Backup Tools</th>\n",
       "      <th>Test</th>\n",
       "      <th>Test-Unit Testing</th>\n",
       "      <th>Test-Integration Testing</th>\n",
       "      <th>Test-Performance Testing</th>\n",
       "      <th>Test-Security Testing</th>\n",
       "      <th>Test-Usability Testing</th>\n",
       "      <th>Test-Regression Testing</th>\n",
       "    </tr>\n",
       "  </thead>\n",
       "  <tbody>\n",
       "    <tr>\n",
       "      <th>0</th>\n",
       "      <td>11281</td>\n",
       "      <td>11285</td>\n",
       "      <td>True</td>\n",
       "      <td>Position (width) of Preview inside entry edito...</td>\n",
       "      <td>### JabRef version\\r\\n\\r\\nLatest development b...</td>\n",
       "      <td>2024-05-08T19:44:13Z</td>\n",
       "      <td>2024-05-08T20:44:29Z</td>\n",
       "      <td>Siedlerchr</td>\n",
       "      <td>Siedlerchr</td>\n",
       "      <td>ce830d233d3b4d03b8fcf25b506e51d25e8ce541</td>\n",
       "      <td>...</td>\n",
       "      <td>0</td>\n",
       "      <td>0</td>\n",
       "      <td>0</td>\n",
       "      <td>0</td>\n",
       "      <td>0</td>\n",
       "      <td>0</td>\n",
       "      <td>0</td>\n",
       "      <td>0</td>\n",
       "      <td>0</td>\n",
       "      <td>0</td>\n",
       "    </tr>\n",
       "    <tr>\n",
       "      <th>1</th>\n",
       "      <td>11269</td>\n",
       "      <td>11271</td>\n",
       "      <td>True</td>\n",
       "      <td>Selected group loses focus after paste doi</td>\n",
       "      <td>JabRef 5.14--2024-04-30--4f87740\\r\\nWindows 11...</td>\n",
       "      <td>2024-05-01T11:21:50Z</td>\n",
       "      <td>2024-05-02T09:39:47Z</td>\n",
       "      <td>Siedlerchr</td>\n",
       "      <td>Siedlerchr</td>\n",
       "      <td>3cb6756682e53ebd7dba092ee52beae95befa450</td>\n",
       "      <td>...</td>\n",
       "      <td>0</td>\n",
       "      <td>0</td>\n",
       "      <td>0</td>\n",
       "      <td>0</td>\n",
       "      <td>0</td>\n",
       "      <td>0</td>\n",
       "      <td>0</td>\n",
       "      <td>0</td>\n",
       "      <td>0</td>\n",
       "      <td>0</td>\n",
       "    </tr>\n",
       "    <tr>\n",
       "      <th>2</th>\n",
       "      <td>11267</td>\n",
       "      <td>11268</td>\n",
       "      <td>True</td>\n",
       "      <td>Keep search string across library shows \"No re...</td>\n",
       "      <td>### JabRef version\\n\\nLatest development branc...</td>\n",
       "      <td>2024-04-30T05:00:17Z</td>\n",
       "      <td>2024-04-30T06:14:38Z</td>\n",
       "      <td>LoayGhreeb</td>\n",
       "      <td>Loay Ghreeb</td>\n",
       "      <td>ad4e88609852069c745183cb99bcd7c9eaf4ac63</td>\n",
       "      <td>...</td>\n",
       "      <td>0</td>\n",
       "      <td>0</td>\n",
       "      <td>0</td>\n",
       "      <td>0</td>\n",
       "      <td>0</td>\n",
       "      <td>0</td>\n",
       "      <td>0</td>\n",
       "      <td>0</td>\n",
       "      <td>0</td>\n",
       "      <td>0</td>\n",
       "    </tr>\n",
       "    <tr>\n",
       "      <th>3</th>\n",
       "      <td>11254</td>\n",
       "      <td>11255</td>\n",
       "      <td>True</td>\n",
       "      <td>Drag and dropping an entry from one library to...</td>\n",
       "      <td>### JabRef version\\n\\n5.13 (latest release)\\n\\...</td>\n",
       "      <td>2024-04-28T18:35:47Z</td>\n",
       "      <td>2024-04-30T12:33:54Z</td>\n",
       "      <td>HoussemNasri</td>\n",
       "      <td>HoussemNasri</td>\n",
       "      <td>9f259c9c22e570ab33b2f45d608add1e064b1391</td>\n",
       "      <td>...</td>\n",
       "      <td>0</td>\n",
       "      <td>0</td>\n",
       "      <td>0</td>\n",
       "      <td>0</td>\n",
       "      <td>0</td>\n",
       "      <td>0</td>\n",
       "      <td>0</td>\n",
       "      <td>0</td>\n",
       "      <td>0</td>\n",
       "      <td>0</td>\n",
       "    </tr>\n",
       "    <tr>\n",
       "      <th>4</th>\n",
       "      <td>11198</td>\n",
       "      <td>11195</td>\n",
       "      <td>True</td>\n",
       "      <td>InaccessibleObjectException</td>\n",
       "      <td>### JabRef version\\n\\nLatest development branc...</td>\n",
       "      <td>2024-04-15T11:04:15Z</td>\n",
       "      <td>2024-04-15T21:08:09Z</td>\n",
       "      <td>koppor</td>\n",
       "      <td>Carl Christian Snethlage</td>\n",
       "      <td>cff1f640734f38506ce9bf453e651252538187d0</td>\n",
       "      <td>...</td>\n",
       "      <td>0</td>\n",
       "      <td>0</td>\n",
       "      <td>0</td>\n",
       "      <td>0</td>\n",
       "      <td>0</td>\n",
       "      <td>0</td>\n",
       "      <td>0</td>\n",
       "      <td>0</td>\n",
       "      <td>0</td>\n",
       "      <td>0</td>\n",
       "    </tr>\n",
       "  </tbody>\n",
       "</table>\n",
       "<p>5 rows × 233 columns</p>\n",
       "</div>"
      ],
      "text/plain": [
       "   Issue #   PR #  Pull Request  \\\n",
       "0    11281  11285          True   \n",
       "1    11269  11271          True   \n",
       "2    11267  11268          True   \n",
       "3    11254  11255          True   \n",
       "4    11198  11195          True   \n",
       "\n",
       "                                          issue text  \\\n",
       "0  Position (width) of Preview inside entry edito...   \n",
       "1         Selected group loses focus after paste doi   \n",
       "2  Keep search string across library shows \"No re...   \n",
       "3  Drag and dropping an entry from one library to...   \n",
       "4                        InaccessibleObjectException   \n",
       "\n",
       "                                   issue description            created_at  \\\n",
       "0  ### JabRef version\\r\\n\\r\\nLatest development b...  2024-05-08T19:44:13Z   \n",
       "1  JabRef 5.14--2024-04-30--4f87740\\r\\nWindows 11...  2024-05-01T11:21:50Z   \n",
       "2  ### JabRef version\\n\\nLatest development branc...  2024-04-30T05:00:17Z   \n",
       "3  ### JabRef version\\n\\n5.13 (latest release)\\n\\...  2024-04-28T18:35:47Z   \n",
       "4  ### JabRef version\\n\\nLatest development branc...  2024-04-15T11:04:15Z   \n",
       "\n",
       "              closed_at     userlogin               author_name  \\\n",
       "0  2024-05-08T20:44:29Z    Siedlerchr                Siedlerchr   \n",
       "1  2024-05-02T09:39:47Z    Siedlerchr                Siedlerchr   \n",
       "2  2024-04-30T06:14:38Z    LoayGhreeb               Loay Ghreeb   \n",
       "3  2024-04-30T12:33:54Z  HoussemNasri              HoussemNasri   \n",
       "4  2024-04-15T21:08:09Z        koppor  Carl Christian Snethlage   \n",
       "\n",
       "                         most_recent_commit  ... Utility-Performance Tools  \\\n",
       "0  ce830d233d3b4d03b8fcf25b506e51d25e8ce541  ...                         0   \n",
       "1  3cb6756682e53ebd7dba092ee52beae95befa450  ...                         0   \n",
       "2  ad4e88609852069c745183cb99bcd7c9eaf4ac63  ...                         0   \n",
       "3  9f259c9c22e570ab33b2f45d608add1e064b1391  ...                         0   \n",
       "4  cff1f640734f38506ce9bf453e651252538187d0  ...                         0   \n",
       "\n",
       "  Utility-Diagnostic Utilities Utility-Backup Tools  Test Test-Unit Testing  \\\n",
       "0                            0                    0     0                 0   \n",
       "1                            0                    0     0                 0   \n",
       "2                            0                    0     0                 0   \n",
       "3                            0                    0     0                 0   \n",
       "4                            0                    0     0                 0   \n",
       "\n",
       "   Test-Integration Testing  Test-Performance Testing  Test-Security Testing  \\\n",
       "0                         0                         0                      0   \n",
       "1                         0                         0                      0   \n",
       "2                         0                         0                      0   \n",
       "3                         0                         0                      0   \n",
       "4                         0                         0                      0   \n",
       "\n",
       "   Test-Usability Testing  Test-Regression Testing  \n",
       "0                       0                        0  \n",
       "1                       0                        0  \n",
       "2                       0                        0  \n",
       "3                       0                        0  \n",
       "4                       0                        0  \n",
       "\n",
       "[5 rows x 233 columns]"
      ]
     },
     "execution_count": 3,
     "metadata": {},
     "output_type": "execute_result"
    }
   ],
   "source": [
    "df = pd.read_csv(\"DATA/linked_data.csv\")\n",
    "\n",
    "df.head()"
   ]
  },
  {
   "cell_type": "markdown",
   "id": "f4834ae9-13d6-4b7b-9a14-754045a78bb8",
   "metadata": {
    "jp-MarkdownHeadingCollapsed": true
   },
   "source": [
    "# Preprocessing"
   ]
  },
  {
   "cell_type": "markdown",
   "id": "2449a37c-8577-4604-a882-8a4c15455855",
   "metadata": {},
   "source": [
    "Preprocessing steps involve cleaning the issue title and body text. On first approach I am using the approach found in the folowing project, https://github.com/G4BE-334/NLBSE-issue-report-classification/blob/main/issueclassificationgpt.ipynb \n",
    "This is doing similar work in labeling github issues and provides a way to remove noise commonly found in github text (html tags, links, etc.)"
   ]
  },
  {
   "cell_type": "markdown",
   "id": "599c0acf-0aae-43ba-8834-8e3f42e5d445",
   "metadata": {},
   "source": [
    "## Filter Out Rare and Common Domains"
   ]
  },
  {
   "cell_type": "markdown",
   "id": "1a0a4e04-ca20-40b5-aad3-935efb082a83",
   "metadata": {},
   "source": [
    "Filtering out domains based on a threshold allows us to prioritize/emphasize domains that are common in a repository with common domains (present in more than 90% of issues) representing skills that are required for the repo as a whole and rare domains (present in less than 10% of issues) representing skills that are rarely required in the repo."
   ]
  },
  {
   "cell_type": "code",
   "execution_count": 65,
   "id": "0f40991a-2cf0-40fa-8c31-b6bb26bf3d0d",
   "metadata": {},
   "outputs": [
    {
     "name": "stdout",
     "output_type": "stream",
     "text": [
      "22\n"
     ]
    },
    {
     "data": {
      "text/plain": [
       "Index(['Computer Graphics', 'Data Structure-Tree Structures',\n",
       "       'Data Structure-Data Sorting', 'Data Structure-Search Algorithms',\n",
       "       'Data Structure-Data Manipulation', 'Databases',\n",
       "       'Databases-Query Execution',\n",
       "       'Software Development and IT Operations-Version Control',\n",
       "       'Software Development and IT Operations-Monitoring and Logging',\n",
       "       'Error Handling', 'Event Handling',\n",
       "       'Event Handling-Event Driven Processing', 'Input-Output', 'Logic',\n",
       "       'Language-Standard Libraries', 'Parser', 'Parser-Data Conversion',\n",
       "       'Parser-Validation', 'User Interface-Layout Design',\n",
       "       'User Interface-Interaction Design', 'User Interface-Accessibility',\n",
       "       'User Interface-User Feedback'],\n",
       "      dtype='object')"
      ]
     },
     "execution_count": 65,
     "metadata": {},
     "output_type": "execute_result"
    }
   ],
   "source": [
    "df = pd.read_csv(\"DATA/linked_data.csv\")\n",
    "\n",
    "df.head()\n",
    "domains = df.columns[15:]\n",
    "columns_to_drop = []\n",
    "occurrence_dictionary = {}\n",
    "for domain in domains:\n",
    "    column_values = df[domain].tolist()\n",
    "    occurrence = column_values.count(1)\n",
    "    lower_bound = int(len(df) * 0.40)\n",
    "    upper_bound = int(len(df) * 0.80)\n",
    "    \n",
    "    if occurrence < lower_bound or occurrence > upper_bound:\n",
    "        columns_to_drop.append(domain)\n",
    "    else:\n",
    "        occurrence_dictionary[domain] = occurrence\n",
    "\n",
    "df = df.drop(columns=columns_to_drop)\n",
    "\n",
    "print(len(df.columns[15:]))\n",
    "df.columns[15:]"
   ]
  },
  {
   "cell_type": "code",
   "execution_count": 66,
   "id": "1e39aa0c-604b-430f-9b3f-6abd42530662",
   "metadata": {},
   "outputs": [
    {
     "name": "stdout",
     "output_type": "stream",
     "text": [
      "{'Computer Graphics': 596, 'Data Structure-Tree Structures': 641, 'Data Structure-Data Sorting': 510, 'Data Structure-Search Algorithms': 569, 'Data Structure-Data Manipulation': 636, 'Databases': 664, 'Databases-Query Execution': 402, 'Software Development and IT Operations-Version Control': 774, 'Software Development and IT Operations-Monitoring and Logging': 653, 'Error Handling': 765, 'Event Handling': 447, 'Event Handling-Event Driven Processing': 400, 'Input-Output': 487, 'Logic': 659, 'Language-Standard Libraries': 752, 'Parser': 714, 'Parser-Data Conversion': 407, 'Parser-Validation': 451, 'User Interface-Layout Design': 643, 'User Interface-Interaction Design': 785, 'User Interface-Accessibility': 528, 'User Interface-User Feedback': 721}\n"
     ]
    }
   ],
   "source": [
    "print(occurrence_dictionary)"
   ]
  },
  {
   "cell_type": "code",
   "execution_count": 67,
   "id": "be978f59-3685-4baf-bf77-6aca26e21521",
   "metadata": {},
   "outputs": [
    {
     "name": "stdout",
     "output_type": "stream",
     "text": [
      "{'User Interface-Interaction Design': 785, 'Software Development and IT Operations-Version Control': 774, 'Error Handling': 765, 'Language-Standard Libraries': 752, 'User Interface-User Feedback': 721, 'Parser': 714, 'Databases': 664, 'Logic': 659, 'Software Development and IT Operations-Monitoring and Logging': 653, 'User Interface-Layout Design': 643, 'Data Structure-Tree Structures': 641, 'Data Structure-Data Manipulation': 636, 'Computer Graphics': 596, 'Data Structure-Search Algorithms': 569, 'User Interface-Accessibility': 528, 'Data Structure-Data Sorting': 510, 'Input-Output': 487, 'Parser-Validation': 451, 'Event Handling': 447, 'Parser-Data Conversion': 407, 'Databases-Query Execution': 402, 'Event Handling-Event Driven Processing': 400}\n"
     ]
    }
   ],
   "source": [
    "def sort_dict_by_values(d, reverse=True):\n",
    "    # Sort the dictionary by its values\n",
    "    sorted_dict = dict(sorted(d.items(), key=lambda item: item[1], reverse=reverse))\n",
    "    return sorted_dict\n",
    "    \n",
    "def get_top_domains(n, d, df):\n",
    "    counter = 1\n",
    "    columns_to_drop = []\n",
    "    for key, value in d.items():\n",
    "        if counter > n:\n",
    "            columns_to_drop.append(key)\n",
    "        counter += 1\n",
    "    df = df.drop(columns=columns_to_drop)\n",
    "    return df\n",
    "occurrence_dictionary = sort_dict_by_values(occurrence_dictionary)\n",
    "print(occurrence_dictionary)\n",
    "\n"
   ]
  },
  {
   "cell_type": "code",
   "execution_count": 68,
   "id": "9b431fe4-4452-4c2f-aa50-ce8758624abd",
   "metadata": {},
   "outputs": [
    {
     "data": {
      "text/plain": [
       "Index(['Computer Graphics', 'Data Structure-Tree Structures',\n",
       "       'Data Structure-Search Algorithms', 'Data Structure-Data Manipulation',\n",
       "       'Databases', 'Software Development and IT Operations-Version Control',\n",
       "       'Software Development and IT Operations-Monitoring and Logging',\n",
       "       'Error Handling', 'Logic', 'Language-Standard Libraries', 'Parser',\n",
       "       'User Interface-Layout Design', 'User Interface-Interaction Design',\n",
       "       'User Interface-Accessibility', 'User Interface-User Feedback'],\n",
       "      dtype='object')"
      ]
     },
     "execution_count": 68,
     "metadata": {},
     "output_type": "execute_result"
    }
   ],
   "source": [
    "num_of_domains = 15\n",
    "\n",
    "df = get_top_domains(num_of_domains, occurrence_dictionary, df)\n",
    "df.columns[15:]"
   ]
  },
  {
   "cell_type": "markdown",
   "id": "182de8f9-fb04-44c1-af91-5b59ca8ba91b",
   "metadata": {},
   "source": [
    "## Drop NaN Values"
   ]
  },
  {
   "cell_type": "code",
   "execution_count": 32,
   "id": "0ac13fa2-49a4-4ed5-a4bb-d18a759f69d7",
   "metadata": {},
   "outputs": [
    {
     "name": "stdout",
     "output_type": "stream",
     "text": [
      "997\n",
      "997\n"
     ]
    }
   ],
   "source": [
    "print(len(df))\n",
    "df.dropna(subset=['issue description'], inplace=True)\n",
    "print(len(df))"
   ]
  },
  {
   "cell_type": "markdown",
   "id": "ec46183c-3d6b-413d-9a34-f142cdb675a1",
   "metadata": {},
   "source": [
    "## Clean Issue Text"
   ]
  },
  {
   "cell_type": "code",
   "execution_count": 33,
   "id": "d41b1a7f-607e-47a1-8c83-9d3fd366e968",
   "metadata": {},
   "outputs": [
    {
     "data": {
      "text/html": [
       "<div>\n",
       "<style scoped>\n",
       "    .dataframe tbody tr th:only-of-type {\n",
       "        vertical-align: middle;\n",
       "    }\n",
       "\n",
       "    .dataframe tbody tr th {\n",
       "        vertical-align: top;\n",
       "    }\n",
       "\n",
       "    .dataframe thead th {\n",
       "        text-align: right;\n",
       "    }\n",
       "</style>\n",
       "<table border=\"1\" class=\"dataframe\">\n",
       "  <thead>\n",
       "    <tr style=\"text-align: right;\">\n",
       "      <th></th>\n",
       "      <th>Issue #</th>\n",
       "      <th>PR #</th>\n",
       "      <th>Pull Request</th>\n",
       "      <th>issue text</th>\n",
       "      <th>issue description</th>\n",
       "      <th>created_at</th>\n",
       "      <th>closed_at</th>\n",
       "      <th>userlogin</th>\n",
       "      <th>author_name</th>\n",
       "      <th>most_recent_commit</th>\n",
       "      <th>...</th>\n",
       "      <th>User Interface-Accessibility</th>\n",
       "      <th>User Interface-Animation</th>\n",
       "      <th>User Interface-User Feedback</th>\n",
       "      <th>Utility</th>\n",
       "      <th>Utility-Data Conversion</th>\n",
       "      <th>Utility-System Tools</th>\n",
       "      <th>Utility-Automation Scripts</th>\n",
       "      <th>Utility-Diagnostic Utilities</th>\n",
       "      <th>Test</th>\n",
       "      <th>Test-Unit Testing</th>\n",
       "    </tr>\n",
       "  </thead>\n",
       "  <tbody>\n",
       "    <tr>\n",
       "      <th>0</th>\n",
       "      <td>11281</td>\n",
       "      <td>11285</td>\n",
       "      <td>True</td>\n",
       "      <td>position width of preview inside entry editor ...</td>\n",
       "      <td>jabref version latest development branch build...</td>\n",
       "      <td>2024-05-08T19:44:13Z</td>\n",
       "      <td>2024-05-08T20:44:29Z</td>\n",
       "      <td>Siedlerchr</td>\n",
       "      <td>Siedlerchr</td>\n",
       "      <td>ce830d233d3b4d03b8fcf25b506e51d25e8ce541</td>\n",
       "      <td>...</td>\n",
       "      <td>0</td>\n",
       "      <td>0</td>\n",
       "      <td>1</td>\n",
       "      <td>0</td>\n",
       "      <td>0</td>\n",
       "      <td>0</td>\n",
       "      <td>0</td>\n",
       "      <td>0</td>\n",
       "      <td>0</td>\n",
       "      <td>0</td>\n",
       "    </tr>\n",
       "    <tr>\n",
       "      <th>1</th>\n",
       "      <td>11269</td>\n",
       "      <td>11271</td>\n",
       "      <td>True</td>\n",
       "      <td>selected group loses focus after paste doi</td>\n",
       "      <td>jabref 514202404304f87740 windows 11 100 amd64...</td>\n",
       "      <td>2024-05-01T11:21:50Z</td>\n",
       "      <td>2024-05-02T09:39:47Z</td>\n",
       "      <td>Siedlerchr</td>\n",
       "      <td>Siedlerchr</td>\n",
       "      <td>3cb6756682e53ebd7dba092ee52beae95befa450</td>\n",
       "      <td>...</td>\n",
       "      <td>0</td>\n",
       "      <td>1</td>\n",
       "      <td>1</td>\n",
       "      <td>0</td>\n",
       "      <td>0</td>\n",
       "      <td>0</td>\n",
       "      <td>0</td>\n",
       "      <td>0</td>\n",
       "      <td>0</td>\n",
       "      <td>0</td>\n",
       "    </tr>\n",
       "    <tr>\n",
       "      <th>2</th>\n",
       "      <td>11267</td>\n",
       "      <td>11268</td>\n",
       "      <td>True</td>\n",
       "      <td>keep search string across library shows no res...</td>\n",
       "      <td>jabref version latest development branch build...</td>\n",
       "      <td>2024-04-30T05:00:17Z</td>\n",
       "      <td>2024-04-30T06:14:38Z</td>\n",
       "      <td>LoayGhreeb</td>\n",
       "      <td>Loay Ghreeb</td>\n",
       "      <td>ad4e88609852069c745183cb99bcd7c9eaf4ac63</td>\n",
       "      <td>...</td>\n",
       "      <td>1</td>\n",
       "      <td>0</td>\n",
       "      <td>1</td>\n",
       "      <td>0</td>\n",
       "      <td>0</td>\n",
       "      <td>0</td>\n",
       "      <td>0</td>\n",
       "      <td>0</td>\n",
       "      <td>0</td>\n",
       "      <td>0</td>\n",
       "    </tr>\n",
       "    <tr>\n",
       "      <th>3</th>\n",
       "      <td>11254</td>\n",
       "      <td>11255</td>\n",
       "      <td>True</td>\n",
       "      <td>drag and dropping an entry from one library to...</td>\n",
       "      <td>jabref version 513 latest release operating sy...</td>\n",
       "      <td>2024-04-28T18:35:47Z</td>\n",
       "      <td>2024-04-30T12:33:54Z</td>\n",
       "      <td>HoussemNasri</td>\n",
       "      <td>HoussemNasri</td>\n",
       "      <td>9f259c9c22e570ab33b2f45d608add1e064b1391</td>\n",
       "      <td>...</td>\n",
       "      <td>0</td>\n",
       "      <td>0</td>\n",
       "      <td>1</td>\n",
       "      <td>0</td>\n",
       "      <td>0</td>\n",
       "      <td>0</td>\n",
       "      <td>0</td>\n",
       "      <td>0</td>\n",
       "      <td>0</td>\n",
       "      <td>0</td>\n",
       "    </tr>\n",
       "    <tr>\n",
       "      <th>4</th>\n",
       "      <td>11198</td>\n",
       "      <td>11195</td>\n",
       "      <td>True</td>\n",
       "      <td></td>\n",
       "      <td>jabref version latest development branch build...</td>\n",
       "      <td>2024-04-15T11:04:15Z</td>\n",
       "      <td>2024-04-15T21:08:09Z</td>\n",
       "      <td>koppor</td>\n",
       "      <td>Carl Christian Snethlage</td>\n",
       "      <td>cff1f640734f38506ce9bf453e651252538187d0</td>\n",
       "      <td>...</td>\n",
       "      <td>1</td>\n",
       "      <td>0</td>\n",
       "      <td>1</td>\n",
       "      <td>0</td>\n",
       "      <td>0</td>\n",
       "      <td>0</td>\n",
       "      <td>0</td>\n",
       "      <td>0</td>\n",
       "      <td>0</td>\n",
       "      <td>0</td>\n",
       "    </tr>\n",
       "  </tbody>\n",
       "</table>\n",
       "<p>5 rows × 121 columns</p>\n",
       "</div>"
      ],
      "text/plain": [
       "   Issue #   PR #  Pull Request  \\\n",
       "0    11281  11285          True   \n",
       "1    11269  11271          True   \n",
       "2    11267  11268          True   \n",
       "3    11254  11255          True   \n",
       "4    11198  11195          True   \n",
       "\n",
       "                                          issue text  \\\n",
       "0  position width of preview inside entry editor ...   \n",
       "1         selected group loses focus after paste doi   \n",
       "2  keep search string across library shows no res...   \n",
       "3  drag and dropping an entry from one library to...   \n",
       "4                                                      \n",
       "\n",
       "                                   issue description            created_at  \\\n",
       "0  jabref version latest development branch build...  2024-05-08T19:44:13Z   \n",
       "1  jabref 514202404304f87740 windows 11 100 amd64...  2024-05-01T11:21:50Z   \n",
       "2  jabref version latest development branch build...  2024-04-30T05:00:17Z   \n",
       "3  jabref version 513 latest release operating sy...  2024-04-28T18:35:47Z   \n",
       "4  jabref version latest development branch build...  2024-04-15T11:04:15Z   \n",
       "\n",
       "              closed_at     userlogin               author_name  \\\n",
       "0  2024-05-08T20:44:29Z    Siedlerchr                Siedlerchr   \n",
       "1  2024-05-02T09:39:47Z    Siedlerchr                Siedlerchr   \n",
       "2  2024-04-30T06:14:38Z    LoayGhreeb               Loay Ghreeb   \n",
       "3  2024-04-30T12:33:54Z  HoussemNasri              HoussemNasri   \n",
       "4  2024-04-15T21:08:09Z        koppor  Carl Christian Snethlage   \n",
       "\n",
       "                         most_recent_commit  ... User Interface-Accessibility  \\\n",
       "0  ce830d233d3b4d03b8fcf25b506e51d25e8ce541  ...                            0   \n",
       "1  3cb6756682e53ebd7dba092ee52beae95befa450  ...                            0   \n",
       "2  ad4e88609852069c745183cb99bcd7c9eaf4ac63  ...                            1   \n",
       "3  9f259c9c22e570ab33b2f45d608add1e064b1391  ...                            0   \n",
       "4  cff1f640734f38506ce9bf453e651252538187d0  ...                            1   \n",
       "\n",
       "  User Interface-Animation User Interface-User Feedback  Utility  \\\n",
       "0                        0                            1        0   \n",
       "1                        1                            1        0   \n",
       "2                        0                            1        0   \n",
       "3                        0                            1        0   \n",
       "4                        0                            1        0   \n",
       "\n",
       "  Utility-Data Conversion  Utility-System Tools  Utility-Automation Scripts  \\\n",
       "0                       0                     0                           0   \n",
       "1                       0                     0                           0   \n",
       "2                       0                     0                           0   \n",
       "3                       0                     0                           0   \n",
       "4                       0                     0                           0   \n",
       "\n",
       "   Utility-Diagnostic Utilities  Test  Test-Unit Testing  \n",
       "0                             0     0                  0  \n",
       "1                             0     0                  0  \n",
       "2                             0     0                  0  \n",
       "3                             0     0                  0  \n",
       "4                             0     0                  0  \n",
       "\n",
       "[5 rows x 121 columns]"
      ]
     },
     "execution_count": 33,
     "metadata": {},
     "output_type": "execute_result"
    }
   ],
   "source": [
    "cleaned_count = 0\n",
    "original_count = 0\n",
    "\n",
    "# Text cleaning function\n",
    "def clean_text(text):\n",
    "    global cleaned_count, original_count\n",
    "\n",
    "    if not isinstance(text, str):\n",
    "        original_count += 1\n",
    "        return text\n",
    "\n",
    "    # Remove double quotation marks\n",
    "    text = text.replace('\"', '')\n",
    "\n",
    "    # Remove text starting with \"DevTools\" and ending with \"(automated)\"\n",
    "    text = re.sub(r'DevTools.*?\\(automated\\)', '', text)\n",
    "\n",
    "    # Lowercasing should be one of the first steps to ensure uniformity\n",
    "    text = text.lower()\n",
    "\n",
    "    # Remove emojis\n",
    "    text = emoji.demojize(text)\n",
    "\n",
    "    # Remove URLs\n",
    "    text = re.sub(r'https?://\\S+|www\\.\\S+', '', text)\n",
    "\n",
    "    # Remove HTML tags\n",
    "    text = re.sub(r'<.*?>', '', text)\n",
    "\n",
    "    # Remove special characters and punctuation\n",
    "    text = re.sub(f\"[{re.escape(string.punctuation)}]\", '', text)\n",
    "\n",
    "    # Remove '#' characters\n",
    "    text = text.replace(\"#\", \"\")\n",
    "\n",
    "    # Remove consecutive whitespaces and replace with a single space\n",
    "    text = re.sub(r'\\s+', ' ', text)\n",
    "\n",
    "    # Split the text into words\n",
    "    words = text.split()\n",
    "\n",
    "    # Remove words that are over 20 characters\n",
    "    words = [word for word in words if len(word) <= 20]\n",
    "\n",
    "    # Join the remaining words back into cleaned text\n",
    "    cleaned_text = ' '.join(words)\n",
    "\n",
    "    cleaned_count += 1\n",
    "    return cleaned_text\n",
    "\n",
    "df['issue text'] = df['issue text'].apply(clean_text)\n",
    "df['issue description'] = df['issue description'].apply(clean_text)\n",
    "df.head()"
   ]
  },
  {
   "cell_type": "markdown",
   "id": "767f8f49-8115-4dae-9168-174c5b8fe57a",
   "metadata": {
    "jp-MarkdownHeadingCollapsed": true
   },
   "source": [
    "# Data Transformation"
   ]
  },
  {
   "cell_type": "markdown",
   "id": "74fa5920-e9d3-4e93-b149-5212c82c8f5b",
   "metadata": {},
   "source": [
    "Generate messages based on our dataset that will be used to fine-tune the gpt model, ensuring that the messages are clear in what we want the model to do."
   ]
  },
  {
   "cell_type": "markdown",
   "id": "a04c0902-d20b-4085-9e81-e10727c9cd9f",
   "metadata": {},
   "source": [
    "## Generate System Message"
   ]
  },
  {
   "cell_type": "markdown",
   "id": "a1314724-4556-4cca-84b5-afe00c418aa1",
   "metadata": {},
   "source": [
    "Load in domains and reformat the json for clarity, based on past runs this format ensures that the fine tuned model returns its response in json format making it easier interpret the results and ensures that each domain is being acknowledged by the model."
   ]
  },
  {
   "cell_type": "code",
   "execution_count": 69,
   "id": "bff9823c-109b-430e-8d3e-576e40af4be7",
   "metadata": {},
   "outputs": [],
   "source": [
    "with open(\"Domains.json\", 'r') as file:\n",
    "    dictionary = json.load(file)\n"
   ]
  },
  {
   "cell_type": "code",
   "execution_count": 73,
   "id": "9f6190e9-0596-4021-b798-83c7c7e79add",
   "metadata": {},
   "outputs": [
    {
     "name": "stdout",
     "output_type": "stream",
     "text": [
      "15\n",
      "dict_keys(['Computer Graphics', 'Data Structure-Tree Structures', 'Data Structure-Search Algorithms', 'Data Structure-Data Manipulation', 'Databases', 'Software Development and IT Operations-Version Control', 'Software Development and IT Operations-Monitoring and Logging', 'Error Handling', 'Logic', 'Language-Standard Libraries', 'Parser', 'User Interface-Layout Design', 'User Interface-Interaction Design', 'User Interface-Accessibility', 'User Interface-User Feedback'])\n"
     ]
    }
   ],
   "source": [
    "formatted_domains = {}\n",
    "gpt_output = {}\n",
    "\n",
    "# reformat domains to increase clarity for gpt model and create dictionary with only domains/subdomains (to serve as expected gpt output)\n",
    "for key, value in dictionary.items():\n",
    "    if key in df.columns:\n",
    "        formatted_domains[key] = 'Domain'\n",
    "        gpt_output[key] = 0\n",
    "    # iterate through each subdomain in list and add to dictionary\n",
    "    for i in range(len(value)):\n",
    "        subdomain, description = list(value[i].items())[0]\n",
    "        if subdomain in df.columns:\n",
    "            formatted_domains[subdomain] = description\n",
    "            gpt_output[subdomain] = 0\n",
    "\n",
    "\n",
    "\n",
    "# convert to string to pass to gpt model\n",
    "domains_string = str(formatted_domains)\n",
    "print(len(gpt_output.keys()))\n",
    "print(gpt_output.keys())"
   ]
  },
  {
   "cell_type": "markdown",
   "id": "28d4d9fa-29da-484b-a8fd-7c06953166b3",
   "metadata": {},
   "source": [
    "## Data Split"
   ]
  },
  {
   "cell_type": "markdown",
   "id": "1d23808b-693c-4a50-b324-a5d813265be9",
   "metadata": {},
   "source": [
    "Initial run has a small testing set to minimize OpenAI call costs"
   ]
  },
  {
   "cell_type": "code",
   "execution_count": 42,
   "id": "cfaaf37a-e41a-4950-b33b-eac92f8253a8",
   "metadata": {},
   "outputs": [
    {
     "name": "stdout",
     "output_type": "stream",
     "text": [
      "698\n",
      "299\n"
     ]
    },
    {
     "data": {
      "text/plain": [
       "997"
      ]
     },
     "execution_count": 42,
     "metadata": {},
     "output_type": "execute_result"
    }
   ],
   "source": [
    "# Randomly sample 70% of the rows for the first DataFrame\n",
    "training_df = df.sample(frac=0.70, random_state=1)\n",
    "\n",
    "# The remaining 30% of the rows for the second DataFrame\n",
    "testing_df = df.drop(training_df.index)\n",
    "print(len(training_df))\n",
    "print(len(testing_df))\n",
    "training_df.head()\n",
    "len(df)\n"
   ]
  },
  {
   "cell_type": "markdown",
   "id": "7fa95d77-fc6c-4da7-b2f8-970c43f64777",
   "metadata": {},
   "source": [
    "## Generate GPT Messages"
   ]
  },
  {
   "cell_type": "markdown",
   "id": "a95dfcc3-85f1-411a-9faa-034afd7150c4",
   "metadata": {},
   "source": [
    "Messages will then be stored in a json as this is a suitable format for training the gpt model. System messages are constant and consist of the context behind the domains and subdomains. User messages are variable and consist of the task as well as the issue's title and description. Assistant messages are also variable and consist of every domain with a 1 or 0 attached in json format."
   ]
  },
  {
   "cell_type": "code",
   "execution_count": 29,
   "id": "7ca93183-5f9c-4d28-900a-e826f2e0c0b9",
   "metadata": {},
   "outputs": [],
   "source": [
    "\n",
    "# Open the file in write mode\n",
    "with open('gpt_messages.jsonl', 'w', encoding='utf-8') as f:\n",
    "    assistant_message = gpt_output\n",
    "    # Iterate over the rows in the DataFrame\n",
    "    for index, row in training_df.iterrows():\n",
    "        # Create the user message by formatting the prompt with the title and body\n",
    "        user_message = (\n",
    "        f\"Classify a GitHub issue by indicating whether each domain and subdomain is relevant to the issue based on its title: [{row['issue text']}] \"\n",
    "        f\"and body: [{row['issue description']}]. Ensure that every domain/subdomain is accounted for, and its relevance is indicated with a 1 (relevant) or a 0 (not relevant).\"\n",
    "        )\n",
    "\n",
    "        # logic to update assistant message with values in df\n",
    "        for column in df.columns:\n",
    "            if column in gpt_output:\n",
    "                if row[column] > 0:\n",
    "                    assistant_message[column] = 1\n",
    "                else:\n",
    "                    assistant_message[column] = 0\n",
    "\n",
    "        \n",
    "        # Construct the conversation object\n",
    "        conversation_object = {\n",
    "            \"messages\": [\n",
    "                {\"role\": \"system\", \"content\": \"Refer to these domains and subdomains when classifying \" + domains_string},\n",
    "                {\"role\": \"user\", \"content\": user_message},\n",
    "                {\"role\": \"assistant\", \"content\": str(assistant_message)}\n",
    "                ]\n",
    "        }\n",
    "        \n",
    "        # Write the conversation object to one line in the file\n",
    "        f.write(json.dumps(conversation_object, ensure_ascii=False) + '\\n')"
   ]
  },
  {
   "cell_type": "markdown",
   "id": "064d8213-fb74-4c7e-9c4e-9d43dd90736f",
   "metadata": {
    "jp-MarkdownHeadingCollapsed": true
   },
   "source": [
    "# Model Fine Tuning"
   ]
  },
  {
   "cell_type": "markdown",
   "id": "202a9f77-7fe4-48e5-82e4-122322039e42",
   "metadata": {},
   "source": [
    "## Setup"
   ]
  },
  {
   "cell_type": "markdown",
   "id": "ca36c463-13b4-457f-9e5d-0ffe8d9dbc43",
   "metadata": {},
   "source": [
    "Create Client using OpenAI API key"
   ]
  },
  {
   "cell_type": "code",
   "execution_count": 9,
   "id": "77c4ea32-ac2d-442e-a2ad-909c8f1ac6f9",
   "metadata": {},
   "outputs": [],
   "source": [
    "# Invoking the API\n",
    "from openai import OpenAI\n",
    "client = OpenAI(api_key = 'API-Key')"
   ]
  },
  {
   "cell_type": "markdown",
   "id": "721c18e4-5081-4aac-ba6e-e78fd636ce3d",
   "metadata": {},
   "source": [
    "## Training File Upload"
   ]
  },
  {
   "cell_type": "markdown",
   "id": "c3458fa8-6c2a-457f-aa85-7de0c38bc8b9",
   "metadata": {},
   "source": [
    "Upload training file"
   ]
  },
  {
   "cell_type": "code",
   "execution_count": 31,
   "id": "13eef8b5-2018-408e-88ac-b1a171b7820c",
   "metadata": {},
   "outputs": [
    {
     "data": {
      "text/plain": [
       "FileObject(id='file-QHqqCkqyTijjbJ8ILihy0ZtV', bytes=6833630, created_at=1718127311, filename='gpt_messages.jsonl', object='file', purpose='fine-tune', status='processed', status_details=None)"
      ]
     },
     "execution_count": 31,
     "metadata": {},
     "output_type": "execute_result"
    }
   ],
   "source": [
    "## Uploading a training file\n",
    "domain_classifier_training_file = client.files.create(\n",
    "  file=open(\"gpt_messages.jsonl\", \"rb\"),\n",
    "  purpose=\"fine-tune\"\n",
    ")\n",
    "domain_classifier_training_file"
   ]
  },
  {
   "cell_type": "markdown",
   "id": "9b0e8d5b-6814-4221-9e6a-f9c89be18d10",
   "metadata": {},
   "source": [
    "## Create Fine Tuning Job"
   ]
  },
  {
   "cell_type": "code",
   "execution_count": 32,
   "id": "f261559d-a13d-4e4c-9e0b-2dabab7e65f7",
   "metadata": {},
   "outputs": [
    {
     "name": "stdout",
     "output_type": "stream",
     "text": [
      "file-QHqqCkqyTijjbJ8ILihy0ZtV\n"
     ]
    }
   ],
   "source": [
    "print(domain_classifier_training_file.id)"
   ]
  },
  {
   "cell_type": "code",
   "execution_count": 34,
   "id": "2f44076b-fd72-4d21-889e-b37305e9be57",
   "metadata": {},
   "outputs": [
    {
     "data": {
      "text/plain": [
       "FineTuningJob(id='ftjob-N6Gagn9cBFjAEFboWArMimES', created_at=1718129292, error=Error(code=None, message=None, param=None), fine_tuned_model=None, finished_at=None, hyperparameters=Hyperparameters(n_epochs='auto', batch_size='auto', learning_rate_multiplier='auto'), model='gpt-3.5-turbo-0125', object='fine_tuning.job', organization_id='org-RQmLagMyfsDY9gy4UMq97uCI', result_files=[], seed=1083576369, status='validating_files', trained_tokens=None, training_file='file-QHqqCkqyTijjbJ8ILihy0ZtV', validation_file=None, estimated_finish=None, integrations=[], user_provided_suffix='domain_classifier')"
      ]
     },
     "execution_count": 34,
     "metadata": {},
     "output_type": "execute_result"
    }
   ],
   "source": [
    "## Creating a fine-tuned model\n",
    "ft_job_dc = client.fine_tuning.jobs.create(\n",
    "  training_file=domain_classifier_training_file.id, \n",
    "  model=\"gpt-3.5-turbo\",\n",
    "  suffix= \"domain_classifier\"\n",
    ")\n",
    "\n",
    "ft_job_dc"
   ]
  },
  {
   "cell_type": "markdown",
   "id": "3fdcf3b2-802c-48c8-8df9-1be7f1c3b568",
   "metadata": {},
   "source": [
    "## Check Status"
   ]
  },
  {
   "cell_type": "code",
   "execution_count": 68,
   "id": "84e35f91-06ce-4836-8831-77ae310fed2c",
   "metadata": {},
   "outputs": [
    {
     "name": "stdout",
     "output_type": "stream",
     "text": [
      "ft:gpt-3.5-turbo-0125:northern-arizona-university-nau:domain-classifier:9Z1Ry2K4\n"
     ]
    }
   ],
   "source": [
    "# Retrieving the state of a fine-tune\n",
    "issue_classifier = client.fine_tuning.jobs.retrieve(ft_job_dc.id).fine_tuned_model\n",
    "print(issue_classifier)"
   ]
  },
  {
   "cell_type": "code",
   "execution_count": 67,
   "id": "0e6b40bb-7c3d-47f2-9929-c62e272b3aa1",
   "metadata": {
    "scrolled": true
   },
   "outputs": [
    {
     "data": {
      "text/plain": [
       "SyncCursorPage[FineTuningJobEvent](data=[FineTuningJobEvent(id='ftevent-djvSJ4fKzn8Pk1eeCRAJmN1c', created_at=1718134091, level='info', message='The job has successfully completed', object='fine_tuning.job.event', data={}, type='message'), FineTuningJobEvent(id='ftevent-1hriGuZ2za9iX3JC6x3OFlHs', created_at=1718134083, level='info', message='New fine-tuned model created: ft:gpt-3.5-turbo-0125:northern-arizona-university-nau:domain-classifier:9Z1Ry2K4', object='fine_tuning.job.event', data={}, type='message'), FineTuningJobEvent(id='ftevent-D7MYJsGgXg8nOh9sLvsEP63F', created_at=1718134083, level='info', message='Checkpoint created at step 1396 with Snapshot ID: ft:gpt-3.5-turbo-0125:northern-arizona-university-nau:domain-classifier:9Z1RynEG:ckpt-step-1396', object='fine_tuning.job.event', data={}, type='message'), FineTuningJobEvent(id='ftevent-BVMoD3P0QD4CWpI8MLrPLJH3', created_at=1718134083, level='info', message='Checkpoint created at step 698 with Snapshot ID: ft:gpt-3.5-turbo-0125:northern-arizona-university-nau:domain-classifier:9Z1Ryhff:ckpt-step-698', object='fine_tuning.job.event', data={}, type='message'), FineTuningJobEvent(id='ftevent-knMpRY0P5vKCHe8HEOUYWBzP', created_at=1718134080, level='info', message='Step 2094/2094: training loss=0.01', object='fine_tuning.job.event', data={'step': 2094, 'train_loss': 0.012052896432578564, 'total_steps': 2094, 'train_mean_token_accuracy': 0.9971791505813599}, type='metrics'), FineTuningJobEvent(id='ftevent-07ATookyhJHXROjcgLpVG8zl', created_at=1718134078, level='info', message='Step 2093/2094: training loss=0.03', object='fine_tuning.job.event', data={'step': 2093, 'train_loss': 0.028147736564278603, 'total_steps': 2094, 'train_mean_token_accuracy': 0.9873060584068298}, type='metrics'), FineTuningJobEvent(id='ftevent-PsPAFkhCPweA0Hg7jx0Sqreh', created_at=1718134076, level='info', message='Step 2092/2094: training loss=0.02', object='fine_tuning.job.event', data={'step': 2092, 'train_loss': 0.015462654642760754, 'total_steps': 2094, 'train_mean_token_accuracy': 0.9887164831161499}, type='metrics'), FineTuningJobEvent(id='ftevent-4bZgftkSynGktRQJ8PSu72Ib', created_at=1718134074, level='info', message='Step 2091/2094: training loss=0.03', object='fine_tuning.job.event', data={'step': 2091, 'train_loss': 0.03136809542775154, 'total_steps': 2094, 'train_mean_token_accuracy': 0.9915373921394348}, type='metrics'), FineTuningJobEvent(id='ftevent-GFDNUvc9sGoRVN3zSZuHLZOy', created_at=1718134072, level='info', message='Step 2090/2094: training loss=0.03', object='fine_tuning.job.event', data={'step': 2090, 'train_loss': 0.03203219547867775, 'total_steps': 2094, 'train_mean_token_accuracy': 0.9816642999649048}, type='metrics'), FineTuningJobEvent(id='ftevent-fSTPuheMOAkG285rhIw5S44e', created_at=1718134070, level='info', message='Step 2089/2094: training loss=0.02', object='fine_tuning.job.event', data={'step': 2089, 'train_loss': 0.020834652706980705, 'total_steps': 2094, 'train_mean_token_accuracy': 0.9887164831161499}, type='metrics'), FineTuningJobEvent(id='ftevent-u59z3PpYw9ZgK89kHDut7VKO', created_at=1718134068, level='info', message='Step 2088/2094: training loss=0.04', object='fine_tuning.job.event', data={'step': 2088, 'train_loss': 0.038127679377794266, 'total_steps': 2094, 'train_mean_token_accuracy': 0.9816642999649048}, type='metrics'), FineTuningJobEvent(id='ftevent-qwofuvJCDJbXcjfxoOhYnLQf', created_at=1718134066, level='info', message='Step 2087/2094: training loss=0.03', object='fine_tuning.job.event', data={'step': 2087, 'train_loss': 0.028118876740336418, 'total_steps': 2094, 'train_mean_token_accuracy': 0.9873060584068298}, type='metrics'), FineTuningJobEvent(id='ftevent-R3c36nqRqGPB5lVbupUUz1Io', created_at=1718134064, level='info', message='Step 2086/2094: training loss=0.03', object='fine_tuning.job.event', data={'step': 2086, 'train_loss': 0.027791868895292282, 'total_steps': 2094, 'train_mean_token_accuracy': 0.9901269674301147}, type='metrics'), FineTuningJobEvent(id='ftevent-E1mPjG5nqSCT4nLpgh0ulGrV', created_at=1718134060, level='info', message='Step 2085/2094: training loss=0.02', object='fine_tuning.job.event', data={'step': 2085, 'train_loss': 0.021395297721028328, 'total_steps': 2094, 'train_mean_token_accuracy': 0.9873060584068298}, type='metrics'), FineTuningJobEvent(id='ftevent-st4XclCZFy5kkK8i6Her9pN7', created_at=1718134058, level='info', message='Step 2084/2094: training loss=0.03', object='fine_tuning.job.event', data={'step': 2084, 'train_loss': 0.03198126330971718, 'total_steps': 2094, 'train_mean_token_accuracy': 0.9873060584068298}, type='metrics'), FineTuningJobEvent(id='ftevent-7ShLlSkm8rdraFs93FCGg4GZ', created_at=1718134056, level='info', message='Step 2083/2094: training loss=0.00', object='fine_tuning.job.event', data={'step': 2083, 'train_loss': 0.003867177525535226, 'total_steps': 2094, 'train_mean_token_accuracy': 1.0}, type='metrics'), FineTuningJobEvent(id='ftevent-0PLUgLvEhbPcXs76jU95XVNT', created_at=1718134054, level='info', message='Step 2082/2094: training loss=0.04', object='fine_tuning.job.event', data={'step': 2082, 'train_loss': 0.035885412245988846, 'total_steps': 2094, 'train_mean_token_accuracy': 0.9802538752555847}, type='metrics'), FineTuningJobEvent(id='ftevent-rdF33MJKOvFgLJE3zvScNd68', created_at=1718134052, level='info', message='Step 2081/2094: training loss=0.03', object='fine_tuning.job.event', data={'step': 2081, 'train_loss': 0.025344574823975563, 'total_steps': 2094, 'train_mean_token_accuracy': 0.9873060584068298}, type='metrics'), FineTuningJobEvent(id='ftevent-rHrjyZYoK7ZWVgFr3WfAd9Y8', created_at=1718134050, level='info', message='Step 2080/2094: training loss=0.02', object='fine_tuning.job.event', data={'step': 2080, 'train_loss': 0.019822685047984123, 'total_steps': 2094, 'train_mean_token_accuracy': 0.9901269674301147}, type='metrics'), FineTuningJobEvent(id='ftevent-BQcztTriCjwfFPlewqsn7H9I', created_at=1718134048, level='info', message='Step 2079/2094: training loss=0.03', object='fine_tuning.job.event', data={'step': 2079, 'train_loss': 0.026306577026844025, 'total_steps': 2094, 'train_mean_token_accuracy': 0.9901269674301147}, type='metrics')], object='list', has_more=True)"
      ]
     },
     "execution_count": 67,
     "metadata": {},
     "output_type": "execute_result"
    }
   ],
   "source": [
    "# You can track the progress of your fine-tuning job by listing the lastest events. \n",
    "client.fine_tuning.jobs.list_events(fine_tuning_job_id=ft_job_dc.id, limit=20)"
   ]
  },
  {
   "cell_type": "markdown",
   "id": "b9afb811-ac42-458a-8d8b-212301f369a2",
   "metadata": {
    "jp-MarkdownHeadingCollapsed": true
   },
   "source": [
    "# Testing Fine Tuned Model"
   ]
  },
  {
   "cell_type": "markdown",
   "id": "f07772f3-3233-4c59-8eea-1cab0e1de573",
   "metadata": {},
   "source": [
    "## Get Testing Data Responses"
   ]
  },
  {
   "cell_type": "code",
   "execution_count": 43,
   "id": "60e29b3c-d066-4edf-b7ba-69c5c352d461",
   "metadata": {},
   "outputs": [
    {
     "data": {
      "text/plain": [
       "Index(['Issue #', 'Big Data-Data Processing', 'Computer Graphics',\n",
       "       'Computer Graphics-Image Rendering', 'Computer Graphics-Animation',\n",
       "       'Computer Graphics-Modeling', 'Computer Graphics-Texture Mapping',\n",
       "       'Computer Graphics-Graphics Optimization', 'Data Structure',\n",
       "       'Data Structure-Linear Structures',\n",
       "       ...\n",
       "       'User Interface-Accessibility', 'User Interface-Animation',\n",
       "       'User Interface-User Feedback', 'Utility', 'Utility-Data Conversion',\n",
       "       'Utility-System Tools', 'Utility-Automation Scripts',\n",
       "       'Utility-Diagnostic Utilities', 'Test', 'Test-Unit Testing'],\n",
       "      dtype='object', length=106)"
      ]
     },
     "execution_count": 43,
     "metadata": {},
     "output_type": "execute_result"
    }
   ],
   "source": [
    "response_columns = testing_df.columns[16:]\n",
    "response_columns = response_columns.insert(0, 'Issue #')\n",
    "\n",
    "response_df = pd.DataFrame(columns=response_columns)\n",
    "response_df.columns"
   ]
  },
  {
   "cell_type": "code",
   "execution_count": 47,
   "id": "ce1683e1-4ec7-42d7-ae2c-8fde62203689",
   "metadata": {},
   "outputs": [],
   "source": [
    "import concurrent.futures\n",
    "import openai\n",
    "\n",
    "def query_chatGPT(user_message, system_message, max_retries=5):\n",
    "    attempt = 0\n",
    "\n",
    "    # attempt to query model\n",
    "    while attempt < max_retries:\n",
    "        with concurrent.futures.ThreadPoolExecutor() as executor:\n",
    "            future = executor.submit(\n",
    "                client.chat.completions.create,\n",
    "                model=issue_classifier,\n",
    "                messages=[\n",
    "                    {\"role\": \"user\", \"content\": user_message}\n",
    "                ]\n",
    "            )\n",
    "            try:\n",
    "                response = future.result()\n",
    "                return response.choices[0].message.content\n",
    "            except Exception as e:\n",
    "                print(f\"Attempt {attempt + 1}/{max_retries} - An error occurred: {e}\")\n",
    "            finally:\n",
    "                attempt += 1\n",
    "\n",
    "    print(\"Failed to get a response after several retries.\")\n",
    "    return None"
   ]
  },
  {
   "cell_type": "code",
   "execution_count": 48,
   "id": "61a3dd40-097f-481f-9d31-2d2c8181c1fd",
   "metadata": {},
   "outputs": [
    {
     "name": "stdout",
     "output_type": "stream",
     "text": [
      "Issue #11171 complete\n",
      "Issue #11135 complete\n",
      "Issue #11085 complete\n",
      "Issue #10996 complete\n",
      "Issue #10993 complete\n",
      "Issue #10985 complete\n",
      "Issue #10970 complete\n",
      "Issue #10966 complete\n",
      "Issue #10959 complete\n",
      "Issue #10948 complete\n",
      "Issue #10929 complete\n",
      "Issue #10872 complete\n",
      "Issue #10764 complete\n",
      "Issue #10677 complete\n",
      "Issue #10660 complete\n",
      "Issue #10589 complete\n",
      "Issue #10584 complete\n",
      "Issue #10507 complete\n",
      "Issue #10499 complete\n",
      "Issue #10452 complete\n",
      "Issue #10431 complete\n",
      "Issue #10424 complete\n",
      "Issue #10415 complete\n",
      "Issue #10404 complete\n",
      "Issue #10348 complete\n",
      "Issue #10336 complete\n",
      "Issue #10248 complete\n",
      "Issue #10149 complete\n",
      "Issue #10081 complete\n",
      "Issue #10017 complete\n",
      "Issue #9881 complete\n",
      "Issue #9863 complete\n",
      "Issue #9826 complete\n",
      "Issue #9803 complete\n",
      "Issue #9778 complete\n",
      "Issue #9754 complete\n",
      "Issue #9742 complete\n",
      "Issue #9708 complete\n",
      "Issue #9699 complete\n",
      "Issue #9609 complete\n",
      "Issue #9606 complete\n",
      "Issue #9576 complete\n",
      "Issue #9540 complete\n",
      "Issue #9492 complete\n",
      "Issue #9473 complete\n",
      "Issue #9467 complete\n",
      "Issue #9432 complete\n",
      "Issue #9386 complete\n",
      "Issue #9367 complete\n",
      "Issue #9361 complete\n",
      "Issue #9334 complete\n",
      "Issue #9267 complete\n",
      "Issue #9221 complete\n",
      "Issue #9198 complete\n",
      "Issue #9169 complete\n",
      "Issue #9157 complete\n",
      "Issue #9147 complete\n",
      "Issue #9087 complete\n",
      "Issue #9066 complete\n",
      "Issue #9064 complete\n",
      "Issue #9056 complete\n",
      "Issue #9053 complete\n",
      "Issue #9017 complete\n",
      "Issue #8933 complete\n",
      "Issue #8928 complete\n",
      "Issue #8849 complete\n",
      "Issue #8832 complete\n",
      "Issue #8797 complete\n",
      "Issue #8788 complete\n",
      "Issue #8745 complete\n",
      "Issue #8655 complete\n",
      "Issue #8654 complete\n",
      "Issue #8653 complete\n",
      "Issue #8652 complete\n",
      "Issue #8540 complete\n",
      "Issue #8525 complete\n",
      "Issue #8510 complete\n",
      "Issue #8468 complete\n",
      "Issue #8466 complete\n",
      "Issue #8444 complete\n",
      "Issue #8420 complete\n",
      "Issue #8417 complete\n",
      "Issue #8396 complete\n",
      "Issue #8390 complete\n",
      "Issue #8372 complete\n",
      "Issue #8322 complete\n",
      "Issue #8310 complete\n",
      "Issue #8276 complete\n",
      "Issue #8265 complete\n",
      "Issue #8230 complete\n",
      "Issue #8198 complete\n",
      "Issue #8169 complete\n",
      "Issue #8133 complete\n",
      "Issue #8127 complete\n",
      "Issue #8115 complete\n",
      "Issue #8107 complete\n",
      "Issue #8104 complete\n",
      "Issue #8094 complete\n",
      "Issue #8087 complete\n",
      "Issue #8071 complete\n",
      "Issue #8055 complete\n",
      "Issue #8024 complete\n",
      "Issue #8011 complete\n",
      "Issue #7982 complete\n",
      "Issue #7961 complete\n",
      "Issue #7854 complete\n",
      "Issue #7719 complete\n",
      "Issue #7716 complete\n",
      "Issue #7590 complete\n",
      "Issue #7554 complete\n",
      "Issue #7420 complete\n",
      "Issue #7411 complete\n",
      "Issue #7382 complete\n",
      "Issue #7356 complete\n",
      "Issue #7354 complete\n",
      "Issue #7346 complete\n",
      "Issue #7291 complete\n",
      "Issue #7264 complete\n",
      "Issue #7205 complete\n",
      "Issue #7177 complete\n",
      "Issue #7114 complete\n",
      "Issue #7108 complete\n",
      "Issue #7058 complete\n",
      "Issue #7019 complete\n",
      "Issue #6967 complete\n",
      "Issue #6869 complete\n",
      "Issue #6851 complete\n",
      "Issue #6848 complete\n",
      "Issue #6819 complete\n",
      "Issue #6796 complete\n",
      "Issue #6787 complete\n",
      "Issue #6753 complete\n",
      "Issue #6730 complete\n",
      "Issue #6696 complete\n",
      "Issue #6692 complete\n",
      "Issue #6639 complete\n",
      "Issue #6638 complete\n",
      "Issue #6625 complete\n",
      "Issue #6624 complete\n",
      "Issue #6601 complete\n",
      "Issue #6591 complete\n",
      "Issue #6589 complete\n",
      "Issue #6588 complete\n",
      "Issue #6536 complete\n",
      "Issue #6527 complete\n",
      "Issue #6515 complete\n",
      "Issue #6487 complete\n",
      "Issue #6465 complete\n",
      "Issue #6456 complete\n",
      "Issue #6453 complete\n",
      "Issue #6421 complete\n",
      "Issue #6405 complete\n",
      "Issue #6383 complete\n",
      "Issue #6307 complete\n",
      "Issue #6303 complete\n",
      "Issue #6297 complete\n",
      "Issue #6266 complete\n",
      "Issue #6177 complete\n",
      "Issue #6170 complete\n",
      "Issue #6146 complete\n",
      "Issue #6109 complete\n",
      "Issue #6099 complete\n",
      "Issue #6091 complete\n",
      "Issue #6078 complete\n",
      "Issue #6017 complete\n",
      "Issue #5935 complete\n",
      "Issue #5919 complete\n",
      "Issue #5905 complete\n",
      "Issue #5897 complete\n",
      "Issue #5891 complete\n",
      "Issue #5861 complete\n",
      "Issue #5846 complete\n",
      "Issue #5833 complete\n",
      "Issue #5815 complete\n",
      "Issue #5753 complete\n",
      "Issue #5701 complete\n",
      "Issue #5664 complete\n",
      "Issue #5653 complete\n",
      "Issue #5546 complete\n",
      "Issue #5537 complete\n",
      "Issue #5458 complete\n",
      "Issue #5447 complete\n",
      "Issue #5374 complete\n",
      "Issue #5334 complete\n",
      "Issue #5333 complete\n",
      "Issue #5275 complete\n",
      "Issue #5261 complete\n",
      "Issue #5220 complete\n",
      "Issue #5198 complete\n",
      "Issue #5194 complete\n",
      "Issue #5164 complete\n",
      "Issue #5109 complete\n",
      "Issue #5028 complete\n",
      "Issue #5019 complete\n",
      "Issue #5017 complete\n",
      "Issue #4977 complete\n",
      "Issue #4905 complete\n",
      "Issue #4874 complete\n",
      "Issue #4868 complete\n",
      "Issue #4864 complete\n",
      "Issue #4844 complete\n",
      "Issue #4824 complete\n",
      "Issue #4817 complete\n",
      "Issue #4816 complete\n",
      "Issue #4805 complete\n",
      "Issue #4795 complete\n",
      "Issue #4728 complete\n",
      "Issue #4699 complete\n",
      "Issue #4673 complete\n"
     ]
    },
    {
     "ename": "KeyboardInterrupt",
     "evalue": "",
     "output_type": "error",
     "traceback": [
      "\u001b[1;31m---------------------------------------------------------------------------\u001b[0m",
      "\u001b[1;31mKeyboardInterrupt\u001b[0m                         Traceback (most recent call last)",
      "Cell \u001b[1;32mIn[48], line 12\u001b[0m\n\u001b[0;32m      9\u001b[0m system_message \u001b[38;5;241m=\u001b[39m \u001b[38;5;124m\"\u001b[39m\u001b[38;5;124mRefer to these domains and subdomains when classifying \u001b[39m\u001b[38;5;124m\"\u001b[39m \u001b[38;5;241m+\u001b[39m domains_string\n\u001b[0;32m     11\u001b[0m \u001b[38;5;66;03m# query fine tuned model\u001b[39;00m\n\u001b[1;32m---> 12\u001b[0m response \u001b[38;5;241m=\u001b[39m \u001b[43mquery_chatGPT\u001b[49m\u001b[43m(\u001b[49m\u001b[43muser_message\u001b[49m\u001b[43m,\u001b[49m\u001b[43m \u001b[49m\u001b[43msystem_message\u001b[49m\u001b[43m)\u001b[49m\n\u001b[0;32m     13\u001b[0m all_responses[row[\u001b[38;5;124m'\u001b[39m\u001b[38;5;124mIssue #\u001b[39m\u001b[38;5;124m'\u001b[39m]] \u001b[38;5;241m=\u001b[39m response\n\u001b[0;32m     14\u001b[0m \u001b[38;5;28mprint\u001b[39m(\u001b[38;5;124m\"\u001b[39m\u001b[38;5;124mIssue #\u001b[39m\u001b[38;5;124m\"\u001b[39m\u001b[38;5;241m+\u001b[39m\u001b[38;5;28mstr\u001b[39m(row[\u001b[38;5;124m'\u001b[39m\u001b[38;5;124mIssue #\u001b[39m\u001b[38;5;124m'\u001b[39m])\u001b[38;5;241m+\u001b[39m\u001b[38;5;124m\"\u001b[39m\u001b[38;5;124m complete\u001b[39m\u001b[38;5;124m\"\u001b[39m)\n",
      "Cell \u001b[1;32mIn[47], line 18\u001b[0m, in \u001b[0;36mquery_chatGPT\u001b[1;34m(user_message, system_message, max_retries)\u001b[0m\n\u001b[0;32m     10\u001b[0m future \u001b[38;5;241m=\u001b[39m executor\u001b[38;5;241m.\u001b[39msubmit(\n\u001b[0;32m     11\u001b[0m     client\u001b[38;5;241m.\u001b[39mchat\u001b[38;5;241m.\u001b[39mcompletions\u001b[38;5;241m.\u001b[39mcreate,\n\u001b[0;32m     12\u001b[0m     model\u001b[38;5;241m=\u001b[39missue_classifier,\n\u001b[1;32m   (...)\u001b[0m\n\u001b[0;32m     15\u001b[0m     ]\n\u001b[0;32m     16\u001b[0m )\n\u001b[0;32m     17\u001b[0m \u001b[38;5;28;01mtry\u001b[39;00m:\n\u001b[1;32m---> 18\u001b[0m     response \u001b[38;5;241m=\u001b[39m \u001b[43mfuture\u001b[49m\u001b[38;5;241;43m.\u001b[39;49m\u001b[43mresult\u001b[49m\u001b[43m(\u001b[49m\u001b[43m)\u001b[49m\n\u001b[0;32m     19\u001b[0m     \u001b[38;5;28;01mreturn\u001b[39;00m response\u001b[38;5;241m.\u001b[39mchoices[\u001b[38;5;241m0\u001b[39m]\u001b[38;5;241m.\u001b[39mmessage\u001b[38;5;241m.\u001b[39mcontent\n\u001b[0;32m     20\u001b[0m \u001b[38;5;28;01mexcept\u001b[39;00m \u001b[38;5;167;01mException\u001b[39;00m \u001b[38;5;28;01mas\u001b[39;00m e:\n",
      "File \u001b[1;32m~\\AppData\\Local\\Programs\\Python\\Python311\\Lib\\concurrent\\futures\\_base.py:451\u001b[0m, in \u001b[0;36mFuture.result\u001b[1;34m(self, timeout)\u001b[0m\n\u001b[0;32m    448\u001b[0m \u001b[38;5;28;01melif\u001b[39;00m \u001b[38;5;28mself\u001b[39m\u001b[38;5;241m.\u001b[39m_state \u001b[38;5;241m==\u001b[39m FINISHED:\n\u001b[0;32m    449\u001b[0m     \u001b[38;5;28;01mreturn\u001b[39;00m \u001b[38;5;28mself\u001b[39m\u001b[38;5;241m.\u001b[39m__get_result()\n\u001b[1;32m--> 451\u001b[0m \u001b[38;5;28;43mself\u001b[39;49m\u001b[38;5;241;43m.\u001b[39;49m\u001b[43m_condition\u001b[49m\u001b[38;5;241;43m.\u001b[39;49m\u001b[43mwait\u001b[49m\u001b[43m(\u001b[49m\u001b[43mtimeout\u001b[49m\u001b[43m)\u001b[49m\n\u001b[0;32m    453\u001b[0m \u001b[38;5;28;01mif\u001b[39;00m \u001b[38;5;28mself\u001b[39m\u001b[38;5;241m.\u001b[39m_state \u001b[38;5;129;01min\u001b[39;00m [CANCELLED, CANCELLED_AND_NOTIFIED]:\n\u001b[0;32m    454\u001b[0m     \u001b[38;5;28;01mraise\u001b[39;00m CancelledError()\n",
      "File \u001b[1;32m~\\AppData\\Local\\Programs\\Python\\Python311\\Lib\\threading.py:320\u001b[0m, in \u001b[0;36mCondition.wait\u001b[1;34m(self, timeout)\u001b[0m\n\u001b[0;32m    318\u001b[0m \u001b[38;5;28;01mtry\u001b[39;00m:    \u001b[38;5;66;03m# restore state no matter what (e.g., KeyboardInterrupt)\u001b[39;00m\n\u001b[0;32m    319\u001b[0m     \u001b[38;5;28;01mif\u001b[39;00m timeout \u001b[38;5;129;01mis\u001b[39;00m \u001b[38;5;28;01mNone\u001b[39;00m:\n\u001b[1;32m--> 320\u001b[0m         \u001b[43mwaiter\u001b[49m\u001b[38;5;241;43m.\u001b[39;49m\u001b[43macquire\u001b[49m\u001b[43m(\u001b[49m\u001b[43m)\u001b[49m\n\u001b[0;32m    321\u001b[0m         gotit \u001b[38;5;241m=\u001b[39m \u001b[38;5;28;01mTrue\u001b[39;00m\n\u001b[0;32m    322\u001b[0m     \u001b[38;5;28;01melse\u001b[39;00m:\n",
      "\u001b[1;31mKeyboardInterrupt\u001b[0m: "
     ]
    }
   ],
   "source": [
    "all_responses = {}\n",
    "for index, row in testing_df.iterrows():\n",
    "\n",
    "    # create user and system messages\n",
    "    user_message = (\n",
    "    f\"Classify a GitHub issue by indicating up to THREE domains and subdomains that are relevant to the issue based on its title: [{row['issue text']}] \"\n",
    "    f\"and body: [{row['issue description']}]. Prioritize positive precision by marking an issue with a 1 only when VERY CERTAIN a domain is relevant to the issue text. Ensure that you only provide three domains and refer to ONLY THESE domains and subdomains when classifying: {domains_string}.\"\n",
    "    f\"\\n\\nImportant: only provide the name of the domains in list format.\"\n",
    "    )\n",
    "    system_message = \"Refer to these domains and subdomains when classifying \" + domains_string\n",
    "\n",
    "    # query fine tuned model\n",
    "    response = query_chatGPT(user_message, system_message)\n",
    "    all_responses[row['Issue #']] = response\n",
    "    print(\"Issue #\"+str(row['Issue #'])+\" complete\")\n",
    "\n",
    "with open('gpt_predictions.json', 'w') as json_file:\n",
    "    json.dump(all_responses, json_file, indent=4)"
   ]
  },
  {
   "cell_type": "markdown",
   "id": "b24e31d4-ac99-4cd1-978e-605183c626d0",
   "metadata": {},
   "source": [
    "## Calculate Testing Metrics"
   ]
  },
  {
   "cell_type": "code",
   "execution_count": 93,
   "id": "219fd2f7-d52f-45e7-8e66-cfb8a9f408a5",
   "metadata": {},
   "outputs": [
    {
     "name": "stdout",
     "output_type": "stream",
     "text": [
      "{'Big Data': [0, 0, 0, 0], 'Big Data-Data Processing': [0, 0, 0, 0], 'Computer Graphics': [0, 0, 0, 0], 'Computer Graphics-Image Rendering': [0, 0, 0, 0], 'Computer Graphics-Animation': [0, 0, 0, 0], 'Computer Graphics-Modeling': [0, 0, 0, 0], 'Computer Graphics-Texture Mapping': [0, 0, 0, 0], 'Computer Graphics-Graphics Optimization': [0, 0, 0, 0], 'Data Structure': [0, 0, 0, 0], 'Data Structure-Linear Structures': [0, 0, 0, 0], 'Data Structure-Tree Structures': [0, 0, 0, 0], 'Data Structure-Graph Structures': [0, 0, 0, 0], 'Data Structure-Data Sorting': [0, 0, 0, 0], 'Data Structure-Search Algorithms': [0, 0, 0, 0], 'Data Structure-Data Manipulation': [0, 0, 0, 0], 'Databases': [0, 0, 0, 0], 'Databases-Query Execution': [0, 0, 0, 0], 'Databases-Transaction Management': [0, 0, 0, 0], 'Databases-Schema Design': [0, 0, 0, 0], 'Databases-Database Security': [0, 0, 0, 0], 'Databases-Backup and Recovery': [0, 0, 0, 0], 'Databases-Database Optimization': [0, 0, 0, 0], 'Software Development and IT Operations': [0, 0, 0, 0], 'Software Development and IT Operations-Continuous Integration': [0, 0, 0, 0], 'Software Development and IT Operations-Automated Testing': [0, 0, 0, 0], 'Software Development and IT Operations-Configuration Management': [0, 0, 0, 0], 'Software Development and IT Operations-Version Control': [0, 0, 0, 0], 'Software Development and IT Operations-Monitoring and Logging': [0, 0, 0, 0], 'Error Handling': [0, 0, 0, 0], 'Error Handling-Exception Handling': [0, 0, 0, 0], 'Error Handling-Error Logging': [0, 0, 0, 0], 'Event Handling': [0, 0, 0, 0], 'Event Handling-User Interactions': [0, 0, 0, 0], 'Event Handling-Event Logging': [0, 0, 0, 0], 'Event Handling-Event Driven Processing': [0, 0, 0, 0], 'Geographic Information System': [0, 0, 0, 0], 'Geographic Information System-Mapping': [0, 0, 0, 0], 'Input-Output': [0, 0, 0, 0], 'Input-Output-Data Reading': [0, 0, 0, 0], 'Input-Output-Data Writing': [0, 0, 0, 0], 'Input-Output-Stream Management': [0, 0, 0, 0], 'Input-Output-Buffering Strategies': [0, 0, 0, 0], 'Input-Output-Network IO': [0, 0, 0, 0], 'Interpreter': [0, 0, 0, 0], 'Interpreter-Syntax Analysis': [0, 0, 0, 0], 'Logic': [0, 0, 0, 0], 'Logic-Control Structures': [0, 0, 0, 0], 'Logic-Algorithm Implementation': [0, 0, 0, 0], 'Logic-Logic Optimization': [0, 0, 0, 0], 'Logic-Validation Checks': [0, 0, 0, 0], 'Logic-Rule Processing': [0, 0, 0, 0], 'Logic-Decision Making': [0, 0, 0, 0], 'Language': [0, 0, 0, 0], 'Language-Syntax Features': [0, 0, 0, 0], 'Language-Standard Libraries': [0, 0, 0, 0], 'Language-Language Extensions': [0, 0, 0, 0], 'Language-Type Systems': [0, 0, 0, 0], 'Logging': [0, 0, 0, 0], 'Logging-Error Logs': [0, 0, 0, 0], 'Machine Learning': [0, 0, 0, 0], 'Machine Learning-Training Models': [0, 0, 0, 0], 'Machine Learning-Prediction': [0, 0, 0, 0], 'Machine Learning-Feature Extraction': [0, 0, 0, 0], 'Machine Learning-Model Evaluation': [0, 0, 0, 0], 'Machine Learning-Deployment': [0, 0, 0, 0], 'Multimedia': [0, 0, 0, 0], 'Multimedia-Encoding and Decoding': [0, 0, 0, 0], 'Multimedia-Content Delivery': [0, 0, 0, 0], 'Multi-Thread': [0, 0, 0, 0], 'Multi-Thread-Concurrency Control': [0, 0, 0, 0], 'Multi-Thread-Thread Safety': [0, 0, 0, 0], 'Multi-Thread-Resource Sharing': [0, 0, 0, 0], 'Natural Language Processing': [0, 0, 0, 0], 'Natural Language Processing-Text Analysis': [0, 0, 0, 0], 'Network': [0, 0, 0, 0], 'Network-Connection Management': [0, 0, 0, 0], 'Network-Data Transmission': [0, 0, 0, 0], 'Parser': [0, 0, 0, 0], 'Parser-Syntax Parsing': [0, 0, 0, 0], 'Parser-Error Recovery': [0, 0, 0, 0], 'Parser-Data Conversion': [0, 0, 0, 0], 'Parser-Optimization': [0, 0, 0, 0], 'Parser-Validation': [0, 0, 0, 0], 'Search': [0, 0, 0, 0], 'Search-Indexing': [0, 0, 0, 0], 'Search-Query Processing': [0, 0, 0, 0], 'Search-Ranking': [0, 0, 0, 0], 'Security': [0, 0, 0, 0], 'Security-Authentication': [0, 0, 0, 0], 'Security-Authorization': [0, 0, 0, 0], 'Security-Encryption': [0, 0, 0, 0], 'Security-Compliance': [0, 0, 0, 0], 'Security-Data Integrity': [0, 0, 0, 0], 'User Interface': [0, 0, 0, 0], 'User Interface-Layout Design': [0, 0, 0, 0], 'User Interface-Interaction Design': [0, 0, 0, 0], 'User Interface-Accessibility': [0, 0, 0, 0], 'User Interface-Animation': [0, 0, 0, 0], 'User Interface-User Feedback': [0, 0, 0, 0], 'Utility': [0, 0, 0, 0], 'Utility-Data Conversion': [0, 0, 0, 0], 'Utility-System Tools': [0, 0, 0, 0], 'Utility-Automation Scripts': [0, 0, 0, 0], 'Utility-Diagnostic Utilities': [0, 0, 0, 0], 'Test': [0, 0, 0, 0], 'Test-Unit Testing': [0, 0, 0, 0]}\n"
     ]
    }
   ],
   "source": [
    "with open('gpt_predictions.json', 'r') as file:\n",
    "    json_content = file.read()\n",
    "    responses = json.loads(json_content)\n",
    "\n",
    "domains = training_df.columns[15:]\n",
    "\n",
    "scores = {}\n",
    "\n",
    "for domain in domains:\n",
    "    scores[domain] = [0, 0, 0, 0]\n",
    "\n",
    "print(scores)\n",
    "# Array formatted as [FP, TP, FN, TN]"
   ]
  },
  {
   "cell_type": "markdown",
   "id": "7505a104-20fc-4898-a185-91fe720f749c",
   "metadata": {},
   "source": [
    "### Get FP, TP, FN, TN"
   ]
  },
  {
   "cell_type": "code",
   "execution_count": 94,
   "id": "0ff75f99-3fa6-45db-8699-e4972dda015e",
   "metadata": {},
   "outputs": [
    {
     "name": "stdout",
     "output_type": "stream",
     "text": [
      "11171\n",
      "11135\n",
      "11085\n",
      "10996\n",
      "10993\n",
      "10985\n",
      "10970\n",
      "10966\n",
      "10959\n",
      "10948\n",
      "10929\n",
      "10872\n",
      "10764\n",
      "10677\n",
      "10660\n",
      "10589\n",
      "10584\n",
      "10507\n",
      "10499\n",
      "10452\n",
      "10431\n",
      "10424\n",
      "10415\n",
      "10404\n",
      "10348\n",
      "10336\n",
      "10248\n",
      "10149\n",
      "10081\n",
      "10017\n",
      "9881\n",
      "9863\n",
      "9826\n",
      "9803\n",
      "9778\n",
      "9754\n",
      "9742\n",
      "9708\n",
      "9699\n",
      "9609\n",
      "9606\n",
      "9576\n",
      "9540\n",
      "9492\n",
      "9473\n",
      "9467\n",
      "9432\n",
      "9386\n",
      "9367\n",
      "9361\n",
      "9334\n",
      "9267\n",
      "9221\n",
      "9198\n",
      "9169\n",
      "9157\n",
      "9147\n",
      "9087\n",
      "9066\n",
      "9064\n",
      "9056\n",
      "9053\n",
      "9017\n",
      "8933\n",
      "8928\n",
      "8849\n",
      "8832\n",
      "8797\n",
      "8788\n",
      "8745\n",
      "8655\n",
      "8654\n",
      "8653\n",
      "8652\n",
      "8540\n",
      "8525\n",
      "8510\n",
      "8468\n",
      "8466\n",
      "8444\n",
      "8420\n",
      "8417\n",
      "8396\n",
      "8390\n",
      "8372\n",
      "8322\n",
      "8310\n",
      "8276\n",
      "8265\n",
      "8230\n",
      "8198\n",
      "8169\n",
      "8133\n",
      "8127\n",
      "8115\n",
      "8107\n",
      "8104\n",
      "8094\n",
      "8087\n",
      "8071\n",
      "8055\n",
      "8024\n",
      "8011\n",
      "7982\n",
      "7961\n",
      "7854\n",
      "7719\n",
      "7716\n",
      "7590\n",
      "7554\n",
      "7420\n",
      "7411\n",
      "7382\n",
      "7356\n",
      "7354\n",
      "7346\n",
      "7291\n",
      "7264\n",
      "7205\n",
      "7177\n",
      "7114\n",
      "7108\n",
      "7058\n",
      "7019\n",
      "6967\n",
      "6869\n",
      "6851\n",
      "6848\n",
      "6819\n",
      "6796\n",
      "6787\n",
      "6753\n",
      "6730\n",
      "6696\n",
      "6692\n",
      "6639\n",
      "6638\n",
      "6625\n",
      "6624\n",
      "6601\n",
      "6591\n",
      "6589\n",
      "6588\n",
      "6536\n",
      "6527\n",
      "6515\n",
      "6487\n",
      "6465\n",
      "6456\n",
      "6453\n",
      "6421\n",
      "6405\n",
      "6383\n",
      "6307\n",
      "6303\n",
      "6297\n",
      "6266\n",
      "6177\n",
      "6170\n",
      "6146\n",
      "6109\n",
      "6099\n",
      "6091\n",
      "6078\n",
      "6017\n",
      "5935\n",
      "5919\n",
      "5905\n",
      "5897\n",
      "5891\n",
      "5861\n",
      "5846\n",
      "5833\n",
      "5815\n",
      "5753\n",
      "5701\n",
      "5664\n",
      "5653\n",
      "5546\n",
      "5537\n",
      "5458\n",
      "5447\n",
      "5374\n",
      "5334\n",
      "5333\n",
      "5275\n",
      "5261\n",
      "5220\n",
      "5198\n",
      "5194\n",
      "5164\n",
      "5109\n",
      "5028\n",
      "5019\n",
      "5017\n",
      "4977\n",
      "4905\n",
      "4874\n",
      "4868\n",
      "4864\n",
      "4844\n",
      "4824\n",
      "4817\n",
      "4816\n",
      "4805\n",
      "4795\n",
      "4728\n",
      "4699\n",
      "4673\n",
      "4669\n",
      "4668\n",
      "4667\n",
      "4666\n",
      "4610\n",
      "4609\n",
      "4586\n",
      "4584\n",
      "4583\n",
      "4570\n",
      "4474\n",
      "4440\n",
      "4365\n",
      "4357\n",
      "4345\n",
      "4323\n",
      "4322\n",
      "4202\n",
      "4192\n",
      "4183\n",
      "4166\n",
      "4098\n",
      "4097\n",
      "4025\n",
      "3995\n",
      "3971\n",
      "3966\n",
      "3929\n",
      "3928\n",
      "3805\n",
      "3791\n",
      "3576\n",
      "3493\n",
      "3491\n",
      "3389\n",
      "3311\n",
      "3294\n",
      "3165\n",
      "3161\n",
      "3144\n",
      "3136\n",
      "3130\n",
      "3103\n",
      "3101\n",
      "3081\n",
      "3075\n",
      "2931\n",
      "2917\n",
      "2718\n",
      "2698\n",
      "2687\n",
      "2633\n",
      "2613\n",
      "2577\n",
      "2533\n",
      "2500\n",
      "2486\n",
      "2477\n",
      "2472\n",
      "2471\n",
      "2458\n",
      "2426\n",
      "2419\n",
      "2394\n",
      "2390\n",
      "2334\n",
      "2294\n",
      "2279\n",
      "2220\n",
      "2177\n",
      "2136\n",
      "2133\n",
      "2119\n",
      "2104\n",
      "2089\n",
      "2021\n",
      "1949\n",
      "1881\n",
      "1760\n",
      "1724\n",
      "1527\n",
      "1519\n",
      "1499\n",
      "1270\n",
      "1018\n",
      "938\n",
      "936\n",
      "674\n",
      "466\n",
      "290\n"
     ]
    }
   ],
   "source": [
    "# Response as list\n",
    "columns = testing_df.columns[15:]\n",
    "for index, row in testing_df.iterrows():\n",
    "    if str(row['Issue #']) in responses:\n",
    "        try:\n",
    "            curr_response = ast.literal_eval(responses[str(row['Issue #'])])\n",
    "            print(row['Issue #'])\n",
    "            for domain in columns:\n",
    "                if domain in curr_response:\n",
    "                    pred_y = 1\n",
    "                    true_y = row[domain]\n",
    "                else:\n",
    "                    pred_y = 0\n",
    "                \n",
    "                # false positive\n",
    "                if true_y == 0 and pred_y == 1:\n",
    "                    scores[domain][0] += 1\n",
    "\n",
    "                # true positive\n",
    "                elif true_y == 1 and pred_y == 1:\n",
    "                    scores[domain][1] += 1\n",
    "\n",
    "                # false negative\n",
    "                elif true_y == 1 and pred_y == 0:\n",
    "                    scores[domain][2] += 1\n",
    "\n",
    "                #true negative\n",
    "                elif true_y == 0 and pred_y == 0:\n",
    "                    scores[domain][3] += 1\n",
    "        except ValueError:\n",
    "            # Handle the case where the string is not properly formatted\n",
    "            print(\"Issue #\" + str(row[\"Issue #\"]) + \" response not in json format\")\n",
    "    else:\n",
    "        print(\"Issue #\" + str(row['Issue #']) + \" Issue not in response json\")\n",
    "\n"
   ]
  },
  {
   "cell_type": "code",
   "execution_count": 95,
   "id": "d3ed2267-8a33-411f-aca2-75478ab4cd8b",
   "metadata": {},
   "outputs": [
    {
     "name": "stdout",
     "output_type": "stream",
     "text": [
      "{'Big Data': [0, 0, 221, 78], 'Big Data-Data Processing': [0, 0, 221, 78], 'Computer Graphics': [2, 7, 216, 74], 'Computer Graphics-Image Rendering': [0, 0, 223, 76], 'Computer Graphics-Animation': [0, 0, 223, 76], 'Computer Graphics-Modeling': [0, 0, 223, 76], 'Computer Graphics-Texture Mapping': [0, 0, 223, 76], 'Computer Graphics-Graphics Optimization': [0, 0, 223, 76], 'Data Structure': [0, 0, 223, 76], 'Data Structure-Linear Structures': [0, 0, 223, 76], 'Data Structure-Tree Structures': [2, 21, 208, 68], 'Data Structure-Graph Structures': [0, 0, 229, 70], 'Data Structure-Data Sorting': [0, 0, 229, 70], 'Data Structure-Search Algorithms': [1, 3, 225, 70], 'Data Structure-Data Manipulation': [27, 51, 173, 48], 'Databases': [7, 8, 216, 68], 'Databases-Query Execution': [0, 0, 224, 75], 'Databases-Transaction Management': [0, 0, 224, 75], 'Databases-Schema Design': [0, 0, 224, 75], 'Databases-Database Security': [0, 0, 224, 75], 'Databases-Backup and Recovery': [0, 0, 224, 75], 'Databases-Database Optimization': [0, 0, 224, 75], 'Software Development and IT Operations': [0, 0, 224, 75], 'Software Development and IT Operations-Continuous Integration': [0, 0, 224, 75], 'Software Development and IT Operations-Automated Testing': [0, 0, 224, 75], 'Software Development and IT Operations-Configuration Management': [0, 0, 224, 75], 'Software Development and IT Operations-Version Control': [35, 137, 101, 26], 'Software Development and IT Operations-Monitoring and Logging': [9, 14, 219, 57], 'Error Handling': [16, 58, 176, 49], 'Error Handling-Exception Handling': [0, 0, 234, 65], 'Error Handling-Error Logging': [0, 0, 234, 65], 'Event Handling': [0, 0, 234, 65], 'Event Handling-User Interactions': [0, 0, 234, 65], 'Event Handling-Event Logging': [0, 0, 234, 65], 'Event Handling-Event Driven Processing': [0, 0, 234, 65], 'Geographic Information System': [0, 0, 234, 65], 'Geographic Information System-Mapping': [0, 0, 234, 65], 'Input-Output': [0, 0, 234, 65], 'Input-Output-Data Reading': [0, 0, 234, 65], 'Input-Output-Data Writing': [0, 0, 234, 65], 'Input-Output-Stream Management': [0, 0, 234, 65], 'Input-Output-Buffering Strategies': [0, 0, 234, 65], 'Input-Output-Network IO': [0, 0, 234, 65], 'Interpreter': [0, 0, 234, 65], 'Interpreter-Syntax Analysis': [0, 0, 234, 65], 'Logic': [27, 40, 181, 51], 'Logic-Control Structures': [0, 0, 221, 78], 'Logic-Algorithm Implementation': [0, 0, 221, 78], 'Logic-Logic Optimization': [0, 0, 221, 78], 'Logic-Validation Checks': [0, 0, 221, 78], 'Logic-Rule Processing': [0, 0, 221, 78], 'Logic-Decision Making': [0, 0, 221, 78], 'Language': [0, 0, 221, 78], 'Language-Syntax Features': [0, 0, 221, 78], 'Language-Standard Libraries': [7, 34, 195, 63], 'Language-Language Extensions': [0, 0, 229, 70], 'Language-Type Systems': [0, 0, 229, 70], 'Logging': [0, 0, 229, 70], 'Logging-Error Logs': [0, 0, 229, 70], 'Machine Learning': [0, 0, 229, 70], 'Machine Learning-Training Models': [0, 0, 229, 70], 'Machine Learning-Prediction': [0, 0, 229, 70], 'Machine Learning-Feature Extraction': [0, 0, 229, 70], 'Machine Learning-Model Evaluation': [0, 0, 229, 70], 'Machine Learning-Deployment': [0, 0, 229, 70], 'Multimedia': [0, 0, 229, 70], 'Multimedia-Encoding and Decoding': [0, 0, 229, 70], 'Multimedia-Content Delivery': [0, 0, 229, 70], 'Multi-Thread': [0, 0, 229, 70], 'Multi-Thread-Concurrency Control': [0, 0, 229, 70], 'Multi-Thread-Thread Safety': [0, 0, 229, 70], 'Multi-Thread-Resource Sharing': [0, 0, 229, 70], 'Natural Language Processing': [0, 0, 229, 70], 'Natural Language Processing-Text Analysis': [0, 0, 229, 70], 'Network': [0, 0, 229, 70], 'Network-Connection Management': [0, 0, 229, 70], 'Network-Data Transmission': [0, 0, 229, 70], 'Parser': [5, 18, 213, 63], 'Parser-Syntax Parsing': [0, 0, 231, 68], 'Parser-Error Recovery': [0, 0, 231, 68], 'Parser-Data Conversion': [0, 0, 231, 68], 'Parser-Optimization': [0, 0, 231, 68], 'Parser-Validation': [0, 0, 231, 68], 'Search': [0, 0, 231, 68], 'Search-Indexing': [0, 0, 231, 68], 'Search-Query Processing': [0, 0, 231, 68], 'Search-Ranking': [0, 0, 231, 68], 'Security': [0, 1, 230, 68], 'Security-Authentication': [0, 0, 231, 68], 'Security-Authorization': [0, 0, 231, 68], 'Security-Encryption': [0, 0, 231, 68], 'Security-Compliance': [0, 0, 231, 68], 'Security-Data Integrity': [0, 0, 231, 68], 'User Interface': [0, 0, 231, 68], 'User Interface-Layout Design': [14, 46, 182, 57], 'User Interface-Interaction Design': [12, 113, 128, 46], 'User Interface-Accessibility': [12, 10, 224, 53], 'User Interface-Animation': [0, 0, 234, 65], 'User Interface-User Feedback': [32, 85, 136, 46], 'Utility': [0, 0, 221, 78], 'Utility-Data Conversion': [0, 0, 221, 78], 'Utility-System Tools': [0, 0, 221, 78], 'Utility-Automation Scripts': [0, 0, 221, 78], 'Utility-Diagnostic Utilities': [0, 0, 221, 78], 'Test': [0, 0, 221, 78], 'Test-Unit Testing': [0, 0, 221, 78]}\n"
     ]
    }
   ],
   "source": [
    "print(scores)"
   ]
  },
  {
   "cell_type": "markdown",
   "id": "2236b2fe-6e4d-4025-a12d-b6d5528abd45",
   "metadata": {},
   "source": [
    "### Calculate Metrics For Each Class"
   ]
  },
  {
   "cell_type": "code",
   "execution_count": 60,
   "id": "17d476f9-1e89-4d79-b53c-e93384d7b571",
   "metadata": {},
   "outputs": [],
   "source": [
    "# Data Format: [FP, TP, FN, TN]\n",
    "\n",
    "performance_columns = ['Domain', 'Accuracy', 'Precision (1)', 'Recall (1)', 'F1 (1)', 'Precision (0)', 'Recall (0)', 'F1 (0)', 'Confusion Matrix']\n",
    "\n",
    "performance_df = pd.DataFrame(columns=performance_columns)\n",
    "sum_list = [0, 0, 0 ,0]\n",
    "for key, value in scores.items():\n",
    "    sum_list[0] += value[0]\n",
    "    sum_list[1] += value[1]\n",
    "    sum_list[2] += value[2]\n",
    "    sum_list[3] += value[3]\n",
    "    \n",
    "    accuracy = (value[1] + value[3]) / sum(value)\n",
    "    accuracy = float(\"{:.2f}\".format(accuracy))\n",
    "\n",
    "    # calculate metrics for positive cases\n",
    "    positive_precision = (value[1]) / (value[1] + value[0]) if (value[1] + value[0]) > 0 else 1\n",
    "    positive_precision = float(\"{:.2f}\".format(positive_precision))\n",
    "\n",
    "    positive_recall = (value[1]) / (value[1] + value[2]) if (value[1] + value[2]) > 0 else 1\n",
    "    positive_recall = float(\"{:.2f}\".format(positive_recall))\n",
    "\n",
    "    positive_F1 = 2 * (((positive_recall * positive_recall)) / (positive_precision + positive_recall)) if (positive_precision + positive_recall) > 0 else 1\n",
    "    positive_F1 = float(\"{:.2f}\".format(positive_F1))\n",
    "\n",
    "    # calculate metrics for negative cases\n",
    "    negative_precision = (value[3]) / (value[2] + value[3]) if (value[2] + value[3]) > 0 else 1\n",
    "    negative_precision = float(\"{:.2f}\".format(negative_precision))\n",
    "\n",
    "    negative_recall = (value[3]) / (value[3] + value[0]) if (value[3] + value[0]) > 0 else 1\n",
    "    negative_recall = float(\"{:.2f}\".format(negative_recall))\n",
    "\n",
    "    negative_F1 = 2 * (((negative_precision * negative_recall)) / (negative_precision + negative_recall)) if (negative_precision + negative_recall) > 0 else 1\n",
    "    negative_F1 = float(\"{:.2f}\".format(negative_F1))\n",
    "    \n",
    "    confusion_matrix = \"0[{}  {}]\\n1[{}  {}]\\n   0     1\".format(value[3], value[0], value[2], value[1])\n",
    "    new_row = [key, accuracy, positive_precision, positive_recall, positive_F1, negative_precision, negative_recall, negative_F1, confusion_matrix]\n",
    "    performance_df.loc[len(performance_df)] = new_row"
   ]
  },
  {
   "cell_type": "code",
   "execution_count": 61,
   "id": "417959d2-39d7-4bf7-a775-475476a1416c",
   "metadata": {},
   "outputs": [],
   "source": [
    "performance_df.to_csv('linked_issue_performance.csv', index=False)"
   ]
  },
  {
   "cell_type": "markdown",
   "id": "ee812391-284e-4b23-963a-0700daaf0f1b",
   "metadata": {},
   "source": [
    "### Compute Micro and Macro Metrics"
   ]
  },
  {
   "cell_type": "code",
   "execution_count": 62,
   "id": "fc65e5b2-f71f-414b-ae7f-ed3d7043df8d",
   "metadata": {},
   "outputs": [
    {
     "name": "stdout",
     "output_type": "stream",
     "text": [
      "[31429, 12527, 19, 438]\n"
     ]
    }
   ],
   "source": [
    "print(sum_list)"
   ]
  },
  {
   "cell_type": "code",
   "execution_count": 63,
   "id": "43f0f8cf-a6cd-4d2e-84bb-c3a88ae5686b",
   "metadata": {},
   "outputs": [
    {
     "name": "stdout",
     "output_type": "stream",
     "text": [
      "Micro positive precision: 0.284989534989535\n",
      "Micro positive recall: 0.39834011701857036\n",
      "Micro positive F1: 0.332263540395735\n",
      "Micro negative precision: 0.9584245076586433\n",
      "Micro negative recall: 0.013744626102237424\n",
      "Micro negative F1: 0.027100606360598932\n",
      "micro accuracy: 0.29191903271564634\n"
     ]
    }
   ],
   "source": [
    "# Positive Micro\n",
    "positive_micro_precision = (sum_list[1]) / (sum_list[0] + sum_list[1])\n",
    "positive_micro_recall = (sum_list[1]) / (sum_list[0] + sum_list[2])\n",
    "positive_micro_F1 = 2 * ((positive_micro_precision * positive_micro_recall) / (positive_micro_precision + positive_micro_recall))\n",
    "\n",
    "print('Micro positive precision:', positive_micro_precision)\n",
    "print('Micro positive recall:', positive_micro_recall)\n",
    "print('Micro positive F1:', positive_micro_F1)\n",
    "\n",
    "# Negative Micro \n",
    "negative_micro_precision = (sum_list[3])/(sum_list[2] + sum_list[3])\n",
    "negative_micro_recall = (sum_list[3])/(sum_list[3] + sum_list[0])\n",
    "negative_micro_F1 = 2 * ((negative_micro_precision * negative_micro_recall) / (negative_micro_precision + negative_micro_recall))\n",
    "\n",
    "print('Micro negative precision:', negative_micro_precision)\n",
    "print('Micro negative recall:', negative_micro_recall)\n",
    "print('Micro negative F1:', negative_micro_F1)\n",
    "\n",
    "# Micro Accuracy\n",
    "micro_accuracy = (sum_list[1] + sum_list[3]) / sum(sum_list)\n",
    "print('micro accuracy:', micro_accuracy)"
   ]
  },
  {
   "cell_type": "code",
   "execution_count": 64,
   "id": "1eaf1e31-3269-4bb9-8cd2-51885fb4a05a",
   "metadata": {},
   "outputs": [
    {
     "name": "stdout",
     "output_type": "stream",
     "text": [
      "Positive Precision: 0.28273584905660376\n",
      "Positive Recall: 0.9901886792452831\n",
      "Positive F1: 0.4398718552876474\n",
      "Negative Precision: 0.8395283018867924\n",
      "Negative Recall: 0.008584905660377359\n",
      "Negative F1: 0.016996012340755977\n"
     ]
    }
   ],
   "source": [
    "# positive\n",
    "positive_macro_precision = performance_df['Precision (1)'].mean()\n",
    "positive_macro_recall = performance_df['Recall (1)'].mean()\n",
    "positive_macro_F1 = 2 * (positive_macro_precision * positive_macro_recall) / (positive_macro_precision + positive_macro_recall)\n",
    "\n",
    "print('Positive Precision:', positive_macro_precision)\n",
    "print('Positive Recall:', positive_macro_recall)\n",
    "print('Positive F1:', positive_macro_F1)\n",
    "\n",
    "# negative\n",
    "negative_macro_precision = performance_df['Precision (0)'].mean()\n",
    "negative_macro_recall = performance_df['Recall (0)'].mean()\n",
    "negative_macro_F1 = 2 * (negative_macro_precision * negative_macro_recall) / (negative_macro_precision + negative_macro_recall)\n",
    "\n",
    "print('Negative Precision:', negative_macro_precision)\n",
    "print('Negative Recall:', negative_macro_recall)\n",
    "print('Negative F1:', negative_macro_F1)"
   ]
  }
 ],
 "metadata": {
  "kernelspec": {
   "display_name": "Python 3 (ipykernel)",
   "language": "python",
   "name": "python3"
  },
  "language_info": {
   "codemirror_mode": {
    "name": "ipython",
    "version": 3
   },
   "file_extension": ".py",
   "mimetype": "text/x-python",
   "name": "python",
   "nbconvert_exporter": "python",
   "pygments_lexer": "ipython3",
   "version": "3.11.5"
  }
 },
 "nbformat": 4,
 "nbformat_minor": 5
}
